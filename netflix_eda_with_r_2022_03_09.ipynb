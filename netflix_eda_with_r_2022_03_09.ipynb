{
  "cells": [
    {
      "cell_type": "code",
      "execution_count": 1,
      "id": "7484eaef",
      "metadata": {
        "_execution_state": "idle",
        "_uuid": "051d70d956493feee0c6d64651c6a088724dca2a",
        "execution": {
          "iopub.execute_input": "2022-03-12T02:49:29.315063Z",
          "iopub.status.busy": "2022-03-12T02:49:29.312177Z",
          "iopub.status.idle": "2022-03-12T02:49:30.618501Z",
          "shell.execute_reply": "2022-03-12T02:49:30.616899Z"
        },
        "papermill": {
          "duration": 1.395296,
          "end_time": "2022-03-12T02:49:30.618720",
          "exception": false,
          "start_time": "2022-03-12T02:49:29.223424",
          "status": "completed"
        },
        "tags": [],
        "colab": {
          "base_uri": "https://localhost:8080/",
          "height": 249
        },
        "id": "7484eaef",
        "outputId": "c5d2bbe7-01df-4a76-8649-20d768de85fb"
      },
      "outputs": [
        {
          "output_type": "stream",
          "name": "stderr",
          "text": [
            "Warning message in system(\"timedatectl\", intern = TRUE):\n",
            "“running command 'timedatectl' had status 1”\n",
            "── \u001b[1mAttaching packages\u001b[22m ─────────────────────────────────────── tidyverse 1.3.1 ──\n",
            "\n",
            "\u001b[32m✔\u001b[39m \u001b[34mggplot2\u001b[39m 3.3.6     \u001b[32m✔\u001b[39m \u001b[34mpurrr  \u001b[39m 0.3.4\n",
            "\u001b[32m✔\u001b[39m \u001b[34mtibble \u001b[39m 3.1.7     \u001b[32m✔\u001b[39m \u001b[34mdplyr  \u001b[39m 1.0.9\n",
            "\u001b[32m✔\u001b[39m \u001b[34mtidyr  \u001b[39m 1.2.0     \u001b[32m✔\u001b[39m \u001b[34mstringr\u001b[39m 1.4.0\n",
            "\u001b[32m✔\u001b[39m \u001b[34mreadr  \u001b[39m 2.1.2     \u001b[32m✔\u001b[39m \u001b[34mforcats\u001b[39m 0.5.1\n",
            "\n",
            "── \u001b[1mConflicts\u001b[22m ────────────────────────────────────────── tidyverse_conflicts() ──\n",
            "\u001b[31m✖\u001b[39m \u001b[34mdplyr\u001b[39m::\u001b[32mfilter()\u001b[39m masks \u001b[34mstats\u001b[39m::filter()\n",
            "\u001b[31m✖\u001b[39m \u001b[34mdplyr\u001b[39m::\u001b[32mlag()\u001b[39m    masks \u001b[34mstats\u001b[39m::lag()\n",
            "\n"
          ]
        },
        {
          "output_type": "display_data",
          "data": {
            "text/html": [
              ""
            ],
            "text/markdown": "",
            "text/latex": "",
            "text/plain": [
              "character(0)"
            ]
          },
          "metadata": {}
        }
      ],
      "source": [
        "# This R environment comes with many helpful analytics packages installed\n",
        "# It is defined by the kaggle/rstats Docker image: https://github.com/kaggle/docker-rstats\n",
        "# For example, here's a helpful package to load\n",
        "\n",
        "library(tidyverse) # metapackage of all tidyverse packages\n",
        "\n",
        "# Input data files are available in the read-only \"../input/\" directory\n",
        "# For example, running this (by clicking run or pressing Shift+Enter) will list all files under the input directory\n",
        "\n",
        "list.files(path = \"../input\")\n",
        "\n",
        "# You can write up to 20GB to the current directory (/kaggle/working/) that gets preserved as output when you create a version using \"Save & Run All\" \n",
        "# You can also write temporary files to /kaggle/temp/, but they won't be saved outside of the current session"
      ]
    },
    {
      "cell_type": "markdown",
      "id": "42bc8487",
      "metadata": {
        "papermill": {
          "duration": 0.078576,
          "end_time": "2022-03-12T02:49:30.777657",
          "exception": false,
          "start_time": "2022-03-12T02:49:30.699081",
          "status": "completed"
        },
        "tags": [],
        "id": "42bc8487"
      },
      "source": [
        "<h1>Table of contents</h1>\n",
        "\n",
        "<div class=\"alert alert-block alert-info\" style=\"margin-top: 20px\">\n",
        "    <ol>\n",
        "        <li><a href=\"#import\">Import the Data</a></li>\n",
        "        <li><a href=\"#data_preprocessing\">Data Preprocessing</a></li>\n",
        "        <li><a href=\"#eda\">Exploratory Data Analysis</a></li>\n",
        "    </ol>\n",
        "</div>\n",
        "<br>\n",
        "<hr>"
      ]
    },
    {
      "cell_type": "markdown",
      "id": "4a0aadfb",
      "metadata": {
        "papermill": {
          "duration": 0.080102,
          "end_time": "2022-03-12T02:49:30.936629",
          "exception": false,
          "start_time": "2022-03-12T02:49:30.856527",
          "status": "completed"
        },
        "tags": [],
        "id": "4a0aadfb"
      },
      "source": [
        "<div id= 'import'>\n",
        "    <h2>Import the Data</h2>\n",
        "</div>"
      ]
    },
    {
      "cell_type": "code",
      "execution_count": 2,
      "id": "3f35b838",
      "metadata": {
        "execution": {
          "iopub.execute_input": "2022-03-12T02:49:31.132354Z",
          "iopub.status.busy": "2022-03-12T02:49:31.102459Z",
          "iopub.status.idle": "2022-03-12T02:49:31.184270Z",
          "shell.execute_reply": "2022-03-12T02:49:31.182682Z"
        },
        "papermill": {
          "duration": 0.167774,
          "end_time": "2022-03-12T02:49:31.184435",
          "exception": false,
          "start_time": "2022-03-12T02:49:31.016661",
          "status": "completed"
        },
        "tags": [],
        "colab": {
          "base_uri": "https://localhost:8080/",
          "height": 286
        },
        "id": "3f35b838",
        "outputId": "f378d46f-addd-4a18-f7f0-486fd1c89fe7"
      },
      "outputs": [
        {
          "output_type": "display_data",
          "data": {
            "text/html": [
              "<table class=\"dataframe\">\n",
              "<caption>A data.frame: 6 × 6</caption>\n",
              "<thead>\n",
              "\t<tr><th></th><th scope=col>Title</th><th scope=col>Genre</th><th scope=col>Language</th><th scope=col>Premiere</th><th scope=col>Runtime</th><th scope=col>Seasons</th></tr>\n",
              "\t<tr><th></th><th scope=col>&lt;chr&gt;</th><th scope=col>&lt;chr&gt;</th><th scope=col>&lt;chr&gt;</th><th scope=col>&lt;chr&gt;</th><th scope=col>&lt;chr&gt;</th><th scope=col>&lt;chr&gt;</th></tr>\n",
              "</thead>\n",
              "<tbody>\n",
              "\t<tr><th scope=row>1</th><td>Stranger Things     </td><td>Science fiction/horror         </td><td>English</td><td>July 15, 2016    </td><td>42–78 min</td><td>3 seasons, 25 episodes</td></tr>\n",
              "\t<tr><th scope=row>2</th><td>The Crown           </td><td>Historical drama               </td><td>English</td><td>November 4, 2016 </td><td>47–61 min</td><td>4 seasons, 40 episodes</td></tr>\n",
              "\t<tr><th scope=row>3</th><td>Ozark               </td><td>Crime drama                    </td><td>English</td><td>July 21, 2017    </td><td>50–80 min</td><td>4 seasons, 37 episodes</td></tr>\n",
              "\t<tr><th scope=row>4</th><td>The Umbrella Academy</td><td>Superhero action               </td><td>English</td><td>February 15, 2019</td><td>40–60 min</td><td>2 seasons, 20 episodes</td></tr>\n",
              "\t<tr><th scope=row>5</th><td>Black Summer        </td><td>Apocalyptic fiction drama      </td><td>English</td><td>April 11, 2019   </td><td>21–58 min</td><td>2 seasons, 16 episodes</td></tr>\n",
              "\t<tr><th scope=row>6</th><td>Raising Dion        </td><td>Superhero/Science fiction drama</td><td>English</td><td>October 4, 2019  </td><td>37–51 min</td><td>2 seasons, 17 episodes</td></tr>\n",
              "</tbody>\n",
              "</table>\n"
            ],
            "text/markdown": "\nA data.frame: 6 × 6\n\n| <!--/--> | Title &lt;chr&gt; | Genre &lt;chr&gt; | Language &lt;chr&gt; | Premiere &lt;chr&gt; | Runtime &lt;chr&gt; | Seasons &lt;chr&gt; |\n|---|---|---|---|---|---|---|\n| 1 | Stranger Things      | Science fiction/horror          | English | July 15, 2016     | 42–78 min | 3 seasons, 25 episodes |\n| 2 | The Crown            | Historical drama                | English | November 4, 2016  | 47–61 min | 4 seasons, 40 episodes |\n| 3 | Ozark                | Crime drama                     | English | July 21, 2017     | 50–80 min | 4 seasons, 37 episodes |\n| 4 | The Umbrella Academy | Superhero action                | English | February 15, 2019 | 40–60 min | 2 seasons, 20 episodes |\n| 5 | Black Summer         | Apocalyptic fiction drama       | English | April 11, 2019    | 21–58 min | 2 seasons, 16 episodes |\n| 6 | Raising Dion         | Superhero/Science fiction drama | English | October 4, 2019   | 37–51 min | 2 seasons, 17 episodes |\n\n",
            "text/latex": "A data.frame: 6 × 6\n\\begin{tabular}{r|llllll}\n  & Title & Genre & Language & Premiere & Runtime & Seasons\\\\\n  & <chr> & <chr> & <chr> & <chr> & <chr> & <chr>\\\\\n\\hline\n\t1 & Stranger Things      & Science fiction/horror          & English & July 15, 2016     & 42–78 min & 3 seasons, 25 episodes\\\\\n\t2 & The Crown            & Historical drama                & English & November 4, 2016  & 47–61 min & 4 seasons, 40 episodes\\\\\n\t3 & Ozark                & Crime drama                     & English & July 21, 2017     & 50–80 min & 4 seasons, 37 episodes\\\\\n\t4 & The Umbrella Academy & Superhero action                & English & February 15, 2019 & 40–60 min & 2 seasons, 20 episodes\\\\\n\t5 & Black Summer         & Apocalyptic fiction drama       & English & April 11, 2019    & 21–58 min & 2 seasons, 16 episodes\\\\\n\t6 & Raising Dion         & Superhero/Science fiction drama & English & October 4, 2019   & 37–51 min & 2 seasons, 17 episodes\\\\\n\\end{tabular}\n",
            "text/plain": [
              "  Title                Genre                           Language\n",
              "1 Stranger Things      Science fiction/horror          English \n",
              "2 The Crown            Historical drama                English \n",
              "3 Ozark                Crime drama                     English \n",
              "4 The Umbrella Academy Superhero action                English \n",
              "5 Black Summer         Apocalyptic fiction drama       English \n",
              "6 Raising Dion         Superhero/Science fiction drama English \n",
              "  Premiere          Runtime   Seasons               \n",
              "1 July 15, 2016     42–78 min 3 seasons, 25 episodes\n",
              "2 November 4, 2016  47–61 min 4 seasons, 40 episodes\n",
              "3 July 21, 2017     50–80 min 4 seasons, 37 episodes\n",
              "4 February 15, 2019 40–60 min 2 seasons, 20 episodes\n",
              "5 April 11, 2019    21–58 min 2 seasons, 16 episodes\n",
              "6 October 4, 2019   37–51 min 2 seasons, 17 episodes"
            ]
          },
          "metadata": {}
        }
      ],
      "source": [
        "netflix <- read.csv(\"netflix.csv\", header= TRUE)\n",
        "head(netflix)"
      ]
    },
    {
      "cell_type": "code",
      "execution_count": 3,
      "id": "b0077927",
      "metadata": {
        "execution": {
          "iopub.execute_input": "2022-03-12T02:49:31.356611Z",
          "iopub.status.busy": "2022-03-12T02:49:31.355443Z",
          "iopub.status.idle": "2022-03-12T02:49:31.385006Z",
          "shell.execute_reply": "2022-03-12T02:49:31.383104Z"
        },
        "papermill": {
          "duration": 0.117924,
          "end_time": "2022-03-12T02:49:31.385184",
          "exception": false,
          "start_time": "2022-03-12T02:49:31.267260",
          "status": "completed"
        },
        "tags": [],
        "colab": {
          "base_uri": "https://localhost:8080/"
        },
        "id": "b0077927",
        "outputId": "1b53bfcf-f7e0-46e4-f9f4-a37cb6642c5b"
      },
      "outputs": [
        {
          "output_type": "stream",
          "name": "stdout",
          "text": [
            "'data.frame':\t363 obs. of  6 variables:\n",
            " $ Title   : chr  \"Stranger Things\" \"The Crown\" \"Ozark\" \"The Umbrella Academy\" ...\n",
            " $ Genre   : chr  \"Science fiction/horror\" \"Historical drama\" \"Crime drama\" \"Superhero action\" ...\n",
            " $ Language: chr  \"English\" \"English\" \"English\" \"English\" ...\n",
            " $ Premiere: chr  \"July 15, 2016\" \"November 4, 2016\" \"July 21, 2017\" \"February 15, 2019\" ...\n",
            " $ Runtime : chr  \"42–78 min\" \"47–61 min\" \"50–80 min\" \"40–60 min\" ...\n",
            " $ Seasons : chr  \"3 seasons, 25 episodes\" \"4 seasons, 40 episodes\" \"4 seasons, 37 episodes\" \"2 seasons, 20 episodes\" ...\n"
          ]
        }
      ],
      "source": [
        "str(netflix)"
      ]
    },
    {
      "cell_type": "markdown",
      "id": "264ec466",
      "metadata": {
        "papermill": {
          "duration": 0.081001,
          "end_time": "2022-03-12T02:49:31.547701",
          "exception": false,
          "start_time": "2022-03-12T02:49:31.466700",
          "status": "completed"
        },
        "tags": [],
        "id": "264ec466"
      },
      "source": [
        "<div id= 'data_preprocessing'>\n",
        "    <h2>Data Preprocessing</h2>\n",
        "</div>"
      ]
    },
    {
      "cell_type": "code",
      "execution_count": 4,
      "id": "9feeb969",
      "metadata": {
        "execution": {
          "iopub.execute_input": "2022-03-12T02:49:31.717959Z",
          "iopub.status.busy": "2022-03-12T02:49:31.715700Z",
          "iopub.status.idle": "2022-03-12T02:49:31.731868Z",
          "shell.execute_reply": "2022-03-12T02:49:31.730171Z"
        },
        "papermill": {
          "duration": 0.103183,
          "end_time": "2022-03-12T02:49:31.732050",
          "exception": false,
          "start_time": "2022-03-12T02:49:31.628867",
          "status": "completed"
        },
        "tags": [],
        "id": "9feeb969"
      },
      "outputs": [],
      "source": [
        "library(dplyr)"
      ]
    },
    {
      "cell_type": "code",
      "execution_count": 5,
      "id": "648c3e68",
      "metadata": {
        "execution": {
          "iopub.execute_input": "2022-03-12T02:49:31.901942Z",
          "iopub.status.busy": "2022-03-12T02:49:31.899874Z",
          "iopub.status.idle": "2022-03-12T02:49:31.916059Z",
          "shell.execute_reply": "2022-03-12T02:49:31.914418Z"
        },
        "papermill": {
          "duration": 0.101802,
          "end_time": "2022-03-12T02:49:31.916249",
          "exception": false,
          "start_time": "2022-03-12T02:49:31.814447",
          "status": "completed"
        },
        "tags": [],
        "id": "648c3e68"
      },
      "outputs": [],
      "source": [
        "# Converting into a Date part\n",
        "netflix$Premiere <- as.Date(netflix$Premiere, format= \"%B %d, %Y\")"
      ]
    },
    {
      "cell_type": "code",
      "execution_count": 6,
      "id": "4cc3506c",
      "metadata": {
        "execution": {
          "iopub.execute_input": "2022-03-12T02:49:32.083953Z",
          "iopub.status.busy": "2022-03-12T02:49:32.082385Z",
          "iopub.status.idle": "2022-03-12T02:49:32.097556Z",
          "shell.execute_reply": "2022-03-12T02:49:32.095973Z"
        },
        "papermill": {
          "duration": 0.100885,
          "end_time": "2022-03-12T02:49:32.097741",
          "exception": false,
          "start_time": "2022-03-12T02:49:31.996856",
          "status": "completed"
        },
        "tags": [],
        "id": "4cc3506c"
      },
      "outputs": [],
      "source": [
        "# Accessing Date part from netflix$Premiere and storing it in new dataframe\n",
        "netflix$Year <- as.numeric(format(netflix$Premiere,'%Y'))"
      ]
    },
    {
      "cell_type": "code",
      "execution_count": 7,
      "id": "57ac0d96",
      "metadata": {
        "execution": {
          "iopub.execute_input": "2022-03-12T02:49:32.265941Z",
          "iopub.status.busy": "2022-03-12T02:49:32.264434Z",
          "iopub.status.idle": "2022-03-12T02:49:32.299334Z",
          "shell.execute_reply": "2022-03-12T02:49:32.298096Z"
        },
        "papermill": {
          "duration": 0.12003,
          "end_time": "2022-03-12T02:49:32.299513",
          "exception": false,
          "start_time": "2022-03-12T02:49:32.179483",
          "status": "completed"
        },
        "tags": [],
        "id": "57ac0d96"
      },
      "outputs": [],
      "source": [
        "# Dropping the Premiere column\n",
        "netflix <- select(netflix, -Premiere)"
      ]
    },
    {
      "cell_type": "code",
      "execution_count": 8,
      "id": "c28e80cf",
      "metadata": {
        "execution": {
          "iopub.execute_input": "2022-03-12T02:49:32.470361Z",
          "iopub.status.busy": "2022-03-12T02:49:32.468754Z",
          "iopub.status.idle": "2022-03-12T02:49:32.480957Z",
          "shell.execute_reply": "2022-03-12T02:49:32.479669Z"
        },
        "papermill": {
          "duration": 0.099086,
          "end_time": "2022-03-12T02:49:32.481165",
          "exception": false,
          "start_time": "2022-03-12T02:49:32.382079",
          "status": "completed"
        },
        "tags": [],
        "id": "c28e80cf"
      },
      "outputs": [],
      "source": [
        "#table(netflix$Genre)"
      ]
    },
    {
      "cell_type": "code",
      "execution_count": 9,
      "id": "5be1afc8",
      "metadata": {
        "execution": {
          "iopub.execute_input": "2022-03-12T02:49:32.649798Z",
          "iopub.status.busy": "2022-03-12T02:49:32.648369Z",
          "iopub.status.idle": "2022-03-12T02:49:32.660293Z",
          "shell.execute_reply": "2022-03-12T02:49:32.658923Z"
        },
        "papermill": {
          "duration": 0.097618,
          "end_time": "2022-03-12T02:49:32.660453",
          "exception": false,
          "start_time": "2022-03-12T02:49:32.562835",
          "status": "completed"
        },
        "tags": [],
        "id": "5be1afc8"
      },
      "outputs": [],
      "source": [
        "#list(netflix$Genre)"
      ]
    },
    {
      "cell_type": "code",
      "execution_count": 10,
      "id": "0f073588",
      "metadata": {
        "execution": {
          "iopub.execute_input": "2022-03-12T02:49:32.826714Z",
          "iopub.status.busy": "2022-03-12T02:49:32.824472Z",
          "iopub.status.idle": "2022-03-12T02:49:32.879199Z",
          "shell.execute_reply": "2022-03-12T02:49:32.877507Z"
        },
        "papermill": {
          "duration": 0.139096,
          "end_time": "2022-03-12T02:49:32.879372",
          "exception": false,
          "start_time": "2022-03-12T02:49:32.740276",
          "status": "completed"
        },
        "tags": [],
        "id": "0f073588"
      },
      "outputs": [],
      "source": [
        "Thriller <- c('Psychological thriller', 'Thriller', 'Dark comedy thriller', 'Dark comedy thriller', 'Crime thriller', 'Romantic thriller', \n",
        "              'Fantasy thriller', 'Survival thriller', 'Science fiction thriller', 'Suspense thriller/Melodrama', 'Teen mystery thriller')\n",
        "\n",
        "Telenovela <- c('Telenovela')\n",
        "\n",
        "Crime <- c('Crime', 'True crime', 'Sport/True crime', 'Crime drama')\n",
        "\n",
        "Horror <- c('Fantasy drama/Supernatural horror', 'Found footage horror', 'CG animation/Horror', 'Fantasy horror', 'Horror')\n",
        "\n",
        "Sitcom <- c('Sitcom')\n",
        "\n",
        "Comedy <- c('Comedy', 'Sketch comedy', 'Workplace comedy', 'Children\\'s comedy', 'Coming-of-age comedy', 'Medieval fantasy comedy', \n",
        "            'Educational/Comedy', 'Romantic comedy', 'Romantic comedy/Musical', 'Dark comedy', 'Workplace dramedy', 'Period dramedy', 'Dramedy', \n",
        "            'Musical comedy', 'Crime comedy/Variety show', 'Martial arts/Action dramedy', 'Comedy drama')\n",
        "\n",
        "Drama <- c('Historical drama', 'Apocalyptic fiction drama', 'Coming-of-age drama', 'Teen drama', 'Detective drama', 'Drama', 'Comedy-drama', \n",
        "           'Historical period drama', 'Black comedy-drama', 'Coming-of-age comedy-drama', 'Supernatural drama', 'Melodrama', 'Crime teen drama',\n",
        "           'Science fiction comedy-drama', 'Young adult mystery drama', 'Police procedural', 'Military drama', 'Fantasy superhero drama', \n",
        "           'Teen musical comedy-drama', 'Mystery teen drama')\n",
        "\n",
        "ScienceFiction <- c('Science fiction/horror', 'Science fiction', 'Science fiction/Tokusatsu', 'Coming-of-age science fiction', 'Science-fiction', \n",
        "                    'Science fiction/Superhero', 'Superhero/Science fiction drama')\n",
        "\n",
        "Fantasy <- c('Fantasy', 'Teen drama fantasy', 'Science fantasy', 'Fantasy/Action', 'Dark fantasy/Action', 'Historical fantasy/Action', \n",
        "             'Dark fantasy/Crime', 'Fantasy drama')\n",
        "\n",
        "RealityShow <- c('Crime comedy/Reality show', 'Crime comedy/Reality show', 'Makeover reality', 'Baking competition', 'Reality', 'Prank show', \n",
        "                 'Music competition', 'Reality competition', 'Dating show', 'Game show', 'Travel reality', 'Reality show', 'Docu-reality', \n",
        "                 'Talk show')\n",
        "\n",
        "Mockumentary <- c('Mockumentary')\n",
        "\n",
        "Documentary <- c('Docuseries', 'Travel documentary', 'Nature documentary', 'Docu-soap', 'Nature docuseries')\n",
        "\n",
        "Sport <- c('Sport')\n",
        "\n",
        "Educational <- c('Educational')  \n",
        "\n",
        "Anime <- c('Anime', 'Animation', 'Animated science fiction fantasy', 'Adult animated horror comedy', 'Animated science fiction fantasy')\n",
        "\n",
        "Romance <- c('Historical romance', 'Romantic drama')\n",
        "\n",
        "Action <- c('Superhero action', 'Superhero live-action animation mix', 'Action', 'Martial arts', 'Action drama')\n",
        "\n",
        "Aftershow <- c('Aftershow')\n",
        "\n",
        "Mecha.Kaiju <- c('Mecha/Kaiju')\n",
        "\n",
        "AnthologySeries <- c('Anthology series', 'Anthology', 'Teen mystery thriller anthology', 'Teen mystery thriller anthology')\n",
        "\n",
        "AwaitingRelease <- c('Awaiting release')"
      ]
    },
    {
      "cell_type": "code",
      "execution_count": null,
      "id": "f80fc827",
      "metadata": {
        "execution": {
          "iopub.execute_input": "2022-03-12T02:49:33.047736Z",
          "iopub.status.busy": "2022-03-12T02:49:33.045258Z",
          "iopub.status.idle": "2022-03-12T02:49:33.101000Z",
          "shell.execute_reply": "2022-03-12T02:49:33.099326Z"
        },
        "papermill": {
          "duration": 0.141021,
          "end_time": "2022-03-12T02:49:33.101191",
          "exception": false,
          "start_time": "2022-03-12T02:49:32.960170",
          "status": "completed"
        },
        "tags": [],
        "id": "f80fc827"
      },
      "outputs": [],
      "source": [
        "genre <- function(Genre) {\n",
        "    if(Genre %in% Thriller) {\n",
        "        return('Thriller')\n",
        "    } else if(Genre %in% Telenovela) {\n",
        "        return('Telenovela')\n",
        "    } else if(Genre %in% Crime) {\n",
        "        return('Crime')\n",
        "    } else if(Genre %in% Horror) {\n",
        "        return('Horror')\n",
        "    } else if(Genre %in% Sitcom) {\n",
        "        return('Sitcom')\n",
        "    } else if(Genre %in% Comedy) {\n",
        "        return('Comedy')\n",
        "    } else if(Genre %in% Drama) {\n",
        "        return('Drama')\n",
        "    } else if(Genre %in% ScienceFiction) {\n",
        "        return('Science Fiction')\n",
        "    } else if(Genre %in% Fantasy) {\n",
        "        return('Fantasy')\n",
        "    } else if(Genre %in% RealityShow) {\n",
        "        return('Reality Show')\n",
        "    } else if(Genre %in% Mockumentary) {\n",
        "        return('Mockumentary')\n",
        "    } else if(Genre %in% Documentary) {\n",
        "        return('Documentary')\n",
        "    } else if(Genre %in% Sport) {\n",
        "        return('Sport')\n",
        "    } else if(Genre %in% Educational) {\n",
        "        return('Educational')\n",
        "    } else if(Genre %in% Anime) {\n",
        "        return('Anime')\n",
        "    } else if(Genre %in% Romance) {\n",
        "        return('Romance')\n",
        "    } else if(Genre %in% Action) {\n",
        "        return('Action')\n",
        "    } else if(Genre %in% Aftershow) {\n",
        "        return('Aftershow')\n",
        "    } else if(Genre %in% Mecha.Kaiju) {\n",
        "        return('Mecha Kaiju')\n",
        "    } else if(Genre %in% AnthologySeries) {\n",
        "        return('Anthology Series')\n",
        "    } else if (Genre %in% AwaitingRelease){\n",
        "        return('Awaiting Release')\n",
        "    } else {\n",
        "        return('Genre Not Specified')\n",
        "    }\n",
        "}\n",
        "        \n",
        "netflix$Genre <- sapply(netflix$Genre, genre)"
      ]
    },
    {
      "cell_type": "code",
      "execution_count": 11,
      "id": "28c03f5c",
      "metadata": {
        "execution": {
          "iopub.execute_input": "2022-03-12T02:49:33.270999Z",
          "iopub.status.busy": "2022-03-12T02:49:33.268756Z",
          "iopub.status.idle": "2022-03-12T02:49:33.290088Z",
          "shell.execute_reply": "2022-03-12T02:49:33.288300Z"
        },
        "papermill": {
          "duration": 0.107972,
          "end_time": "2022-03-12T02:49:33.290284",
          "exception": false,
          "start_time": "2022-03-12T02:49:33.182312",
          "status": "completed"
        },
        "tags": [],
        "colab": {
          "base_uri": "https://localhost:8080/",
          "height": 1000
        },
        "id": "28c03f5c",
        "outputId": "c891ea52-ba17-4cd3-9425-0f7e5ec4c3c0"
      },
      "outputs": [
        {
          "output_type": "display_data",
          "data": {
            "text/plain": [
              "\n",
              "                                                                 Action \n",
              "                                 37                                   2 \n",
              "                       Action drama        Adult animated horror comedy \n",
              "                                  1                                   1 \n",
              "                          Aftershow    Animated science fiction fantasy \n",
              "                                  1                                   1 \n",
              "                          Animation                               Anime \n",
              "                                  2                                   1 \n",
              "                          Anthology                    Anthology series \n",
              "                                  1                                   4 \n",
              "          Apocalyptic fiction drama                    Awaiting release \n",
              "                                  1                                  14 \n",
              "                 Baking competition                  Black comedy-drama \n",
              "                                  3                                   1 \n",
              "                CG animation/Horror                   Children's comedy \n",
              "                                  1                                   1 \n",
              "                             Comedy                        Comedy drama \n",
              "                                 22                                   1 \n",
              "                       Comedy-drama                Coming-of-age comedy \n",
              "                                 10                                   1 \n",
              "         Coming-of-age comedy-drama                 Coming-of-age drama \n",
              "                                  1                                   3 \n",
              "      Coming-of-age science fiction                               Crime \n",
              "                                  1                                   1 \n",
              "          Crime comedy/Reality show           Crime comedy/Variety show \n",
              "                                  1                                   1 \n",
              "                        Crime drama                    Crime teen drama \n",
              "                                 13                                   9 \n",
              "                     Crime thriller                         Dark comedy \n",
              "                                  2                                   1 \n",
              "               Dark comedy thriller                 Dark fantasy/Action \n",
              "                                  1                                   1 \n",
              "                 Dark fantasy/Crime                         Dating show \n",
              "                                  1                                   7 \n",
              "                    Detective drama                        Docu-reality \n",
              "                                  1                                   1 \n",
              "                          Docu-soap                          Docuseries \n",
              "                                  1                                  23 \n",
              "                              Drama                             Dramedy \n",
              "                                 18                                   3 \n",
              "                        Educational                  Educational/Comedy \n",
              "                                  1                                   1 \n",
              "                            Fantasy                       Fantasy drama \n",
              "                                  2                                   4 \n",
              "  Fantasy drama/Supernatural horror                      Fantasy horror \n",
              "                                  1                                   1 \n",
              "            Fantasy superhero drama                    Fantasy thriller \n",
              "                                  1                                   2 \n",
              "                     Fantasy/Action                Found footage horror \n",
              "                                  1                                   1 \n",
              "                          Game show                    Historical drama \n",
              "                                  3                                   3 \n",
              "          Historical fantasy/Action             Historical period drama \n",
              "                                  1                                   1 \n",
              "                 Historical romance                              Horror \n",
              "                                  1                                   1 \n",
              "                   Makeover reality                        Martial arts \n",
              "                                  2                                   1 \n",
              "        Martial arts/Action dramedy                         Mecha/Kaiju \n",
              "                                  1                                   1 \n",
              "            Medieval fantasy comedy                           Melodrama \n",
              "                                  1                                   1 \n",
              "                     Military drama                        Mockumentary \n",
              "                                  1                                   1 \n",
              "                  Music competition                      Musical comedy \n",
              "                                  1                                   1 \n",
              "                 Mystery teen drama                  Nature documentary \n",
              "                                  1                                   1 \n",
              "                  Nature docuseries                      Period dramedy \n",
              "                                  1                                   1 \n",
              "                  Police procedural                          Prank show \n",
              "                                  1                                   1 \n",
              "             Psychological thriller                             Reality \n",
              "                                  2                                  16 \n",
              "                Reality competition                        Reality show \n",
              "                                  5                                  23 \n",
              "                    Romantic comedy             Romantic comedy/Musical \n",
              "                                  5                                   1 \n",
              "                     Romantic drama                   Romantic thriller \n",
              "                                  4                                   1 \n",
              "                    Science fantasy                     Science fiction \n",
              "                                  1                                   4 \n",
              "       Science fiction comedy-drama            Science fiction thriller \n",
              "                                  1                                   1 \n",
              "             Science fiction/horror           Science fiction/Superhero \n",
              "                                  1                                   1 \n",
              "          Science fiction/Tokusatsu                     Science-fiction \n",
              "                                  1                                   1 \n",
              "                             Sitcom                       Sketch comedy \n",
              "                                  4                                   1 \n",
              "                              Sport                    Sport/True crime \n",
              "                                  1                                   1 \n",
              "                   Superhero action Superhero live-action animation mix \n",
              "                                  1                                   1 \n",
              "    Superhero/Science fiction drama                  Supernatural drama \n",
              "                                  1                                   5 \n",
              "                  Survival thriller         Suspense thriller/Melodrama \n",
              "                                  1                                   1 \n",
              "                          Talk show                          Teen drama \n",
              "                                  2                                   5 \n",
              "                 Teen drama fantasy           Teen musical comedy-drama \n",
              "                                  1                                   1 \n",
              "              Teen mystery thriller     Teen mystery thriller anthology \n",
              "                                  1                                   1 \n",
              "                         Telenovela                            Thriller \n",
              "                                  1                                  10 \n",
              "                 Travel documentary                      Travel reality \n",
              "                                  2                                   3 \n",
              "                         True crime                    Workplace comedy \n",
              "                                  8                                   3 \n",
              "                  Workplace dramedy           Young adult mystery drama \n",
              "                                  1                                   1 "
            ]
          },
          "metadata": {}
        }
      ],
      "source": [
        "table(netflix$Genre)"
      ]
    },
    {
      "cell_type": "code",
      "execution_count": 12,
      "id": "5e2125c3",
      "metadata": {
        "execution": {
          "iopub.execute_input": "2022-03-12T02:49:33.492254Z",
          "iopub.status.busy": "2022-03-12T02:49:33.490927Z",
          "iopub.status.idle": "2022-03-12T02:49:33.565249Z",
          "shell.execute_reply": "2022-03-12T02:49:33.563365Z"
        },
        "papermill": {
          "duration": 0.168438,
          "end_time": "2022-03-12T02:49:33.565422",
          "exception": false,
          "start_time": "2022-03-12T02:49:33.396984",
          "status": "completed"
        },
        "tags": [],
        "colab": {
          "base_uri": "https://localhost:8080/",
          "height": 725
        },
        "id": "5e2125c3",
        "outputId": "aefc6011-9d97-456b-d6a3-29e2d047df31"
      },
      "outputs": [
        {
          "output_type": "display_data",
          "data": {
            "text/html": [
              "<table class=\"dataframe\">\n",
              "<caption>A data.frame: 20 × 6</caption>\n",
              "<thead>\n",
              "\t<tr><th></th><th scope=col>Title</th><th scope=col>Genre</th><th scope=col>Language</th><th scope=col>Runtime</th><th scope=col>Seasons</th><th scope=col>Year</th></tr>\n",
              "\t<tr><th></th><th scope=col>&lt;chr&gt;</th><th scope=col>&lt;chr&gt;</th><th scope=col>&lt;chr&gt;</th><th scope=col>&lt;chr&gt;</th><th scope=col>&lt;chr&gt;</th><th scope=col>&lt;dbl&gt;</th></tr>\n",
              "</thead>\n",
              "<tbody>\n",
              "\t<tr><th scope=row>1</th><td>Stranger Things     </td><td>Science fiction/horror           </td><td>English</td><td>42–78 min</td><td>3 seasons, 25 episodes</td><td>2016</td></tr>\n",
              "\t<tr><th scope=row>2</th><td>The Crown           </td><td>Historical drama                 </td><td>English</td><td>47–61 min</td><td>4 seasons, 40 episodes</td><td>2016</td></tr>\n",
              "\t<tr><th scope=row>3</th><td>Ozark               </td><td>Crime drama                      </td><td>English</td><td>50–80 min</td><td>4 seasons, 37 episodes</td><td>2017</td></tr>\n",
              "\t<tr><th scope=row>4</th><td>The Umbrella Academy</td><td>Superhero action                 </td><td>English</td><td>40–60 min</td><td>2 seasons, 20 episodes</td><td>2019</td></tr>\n",
              "\t<tr><th scope=row>5</th><td>Black Summer        </td><td>Apocalyptic fiction drama        </td><td>English</td><td>21–58 min</td><td>2 seasons, 16 episodes</td><td>2019</td></tr>\n",
              "\t<tr><th scope=row>6</th><td>Raising Dion        </td><td>Superhero/Science fiction drama  </td><td>English</td><td>37–51 min</td><td>2 seasons, 17 episodes</td><td>2019</td></tr>\n",
              "\t<tr><th scope=row>7</th><td>Virgin River        </td><td>Romantic drama                   </td><td>English</td><td>40–49 min</td><td>3 seasons, 30 episodes</td><td>2019</td></tr>\n",
              "\t<tr><th scope=row>8</th><td>The Witcher         </td><td>Fantasy drama                    </td><td>English</td><td>47–67 min</td><td>2 seasons, 16 episodes</td><td>2019</td></tr>\n",
              "\t<tr><th scope=row>9</th><td><span style=white-space:pre-wrap>Locke &amp; Key         </span></td><td>Fantasy drama/Supernatural horror</td><td>English</td><td>40–56 min</td><td>2 seasons, 20 episodes</td><td>2020</td></tr>\n",
              "\t<tr><th scope=row>10</th><td>Outer Banks         </td><td>Coming-of-age drama              </td><td>English</td><td>42–61 min</td><td>2 seasons, 20 episodes</td><td>2020</td></tr>\n",
              "\t<tr><th scope=row>11</th><td>Sweet Magnolias     </td><td>Romantic drama                   </td><td>English</td><td>43–54 min</td><td>2 seasons, 20 episodes</td><td>2020</td></tr>\n",
              "\t<tr><th scope=row>12</th><td><span style=white-space:pre-wrap>Blood &amp; Water       </span></td><td><span style=white-space:pre-wrap>Teen drama                       </span></td><td>English</td><td>43–53 min</td><td>2 seasons, 13 episodes</td><td>2020</td></tr>\n",
              "\t<tr><th scope=row>13</th><td>Warrior Nun         </td><td>Fantasy                          </td><td>English</td><td>37–50 min</td><td>1 season, 10 episodes </td><td>2020</td></tr>\n",
              "\t<tr><th scope=row>14</th><td>Young Wallander     </td><td>Detective drama                  </td><td>English</td><td>36–52 min</td><td>2 seasons, 12 episodes</td><td>2020</td></tr>\n",
              "\t<tr><th scope=row>15</th><td>Ratched             </td><td>Psychological thriller           </td><td>English</td><td>45–62 min</td><td>1 season, 8 episodes  </td><td>2020</td></tr>\n",
              "\t<tr><th scope=row>16</th><td>Bridgerton          </td><td>Historical romance               </td><td>English</td><td>57–72 min</td><td>1 season, 8 episodes  </td><td>2020</td></tr>\n",
              "\t<tr><th scope=row>17</th><td>Fate: The Winx Saga </td><td>Teen drama fantasy               </td><td>English</td><td>47–53 min</td><td>1 season, 6 episodes  </td><td>2021</td></tr>\n",
              "\t<tr><th scope=row>18</th><td>Firefly Lane        </td><td>Drama                            </td><td>English</td><td>47–53 min</td><td>1 season, 10 episodes </td><td>2021</td></tr>\n",
              "\t<tr><th scope=row>19</th><td><span style=white-space:pre-wrap>Ginny &amp; Georgia     </span></td><td><span style=white-space:pre-wrap>Coming-of-age drama              </span></td><td>English</td><td>52–58 min</td><td>1 season, 10 episodes </td><td>2021</td></tr>\n",
              "\t<tr><th scope=row>20</th><td>Shadow and Bone     </td><td>Fantasy drama                    </td><td>English</td><td>45–58 min</td><td>1 season, 8 episodes  </td><td>2021</td></tr>\n",
              "</tbody>\n",
              "</table>\n"
            ],
            "text/markdown": "\nA data.frame: 20 × 6\n\n| <!--/--> | Title &lt;chr&gt; | Genre &lt;chr&gt; | Language &lt;chr&gt; | Runtime &lt;chr&gt; | Seasons &lt;chr&gt; | Year &lt;dbl&gt; |\n|---|---|---|---|---|---|---|\n| 1 | Stranger Things      | Science fiction/horror            | English | 42–78 min | 3 seasons, 25 episodes | 2016 |\n| 2 | The Crown            | Historical drama                  | English | 47–61 min | 4 seasons, 40 episodes | 2016 |\n| 3 | Ozark                | Crime drama                       | English | 50–80 min | 4 seasons, 37 episodes | 2017 |\n| 4 | The Umbrella Academy | Superhero action                  | English | 40–60 min | 2 seasons, 20 episodes | 2019 |\n| 5 | Black Summer         | Apocalyptic fiction drama         | English | 21–58 min | 2 seasons, 16 episodes | 2019 |\n| 6 | Raising Dion         | Superhero/Science fiction drama   | English | 37–51 min | 2 seasons, 17 episodes | 2019 |\n| 7 | Virgin River         | Romantic drama                    | English | 40–49 min | 3 seasons, 30 episodes | 2019 |\n| 8 | The Witcher          | Fantasy drama                     | English | 47–67 min | 2 seasons, 16 episodes | 2019 |\n| 9 | Locke &amp; Key          | Fantasy drama/Supernatural horror | English | 40–56 min | 2 seasons, 20 episodes | 2020 |\n| 10 | Outer Banks          | Coming-of-age drama               | English | 42–61 min | 2 seasons, 20 episodes | 2020 |\n| 11 | Sweet Magnolias      | Romantic drama                    | English | 43–54 min | 2 seasons, 20 episodes | 2020 |\n| 12 | Blood &amp; Water        | Teen drama                        | English | 43–53 min | 2 seasons, 13 episodes | 2020 |\n| 13 | Warrior Nun          | Fantasy                           | English | 37–50 min | 1 season, 10 episodes  | 2020 |\n| 14 | Young Wallander      | Detective drama                   | English | 36–52 min | 2 seasons, 12 episodes | 2020 |\n| 15 | Ratched              | Psychological thriller            | English | 45–62 min | 1 season, 8 episodes   | 2020 |\n| 16 | Bridgerton           | Historical romance                | English | 57–72 min | 1 season, 8 episodes   | 2020 |\n| 17 | Fate: The Winx Saga  | Teen drama fantasy                | English | 47–53 min | 1 season, 6 episodes   | 2021 |\n| 18 | Firefly Lane         | Drama                             | English | 47–53 min | 1 season, 10 episodes  | 2021 |\n| 19 | Ginny &amp; Georgia      | Coming-of-age drama               | English | 52–58 min | 1 season, 10 episodes  | 2021 |\n| 20 | Shadow and Bone      | Fantasy drama                     | English | 45–58 min | 1 season, 8 episodes   | 2021 |\n\n",
            "text/latex": "A data.frame: 20 × 6\n\\begin{tabular}{r|llllll}\n  & Title & Genre & Language & Runtime & Seasons & Year\\\\\n  & <chr> & <chr> & <chr> & <chr> & <chr> & <dbl>\\\\\n\\hline\n\t1 & Stranger Things      & Science fiction/horror            & English & 42–78 min & 3 seasons, 25 episodes & 2016\\\\\n\t2 & The Crown            & Historical drama                  & English & 47–61 min & 4 seasons, 40 episodes & 2016\\\\\n\t3 & Ozark                & Crime drama                       & English & 50–80 min & 4 seasons, 37 episodes & 2017\\\\\n\t4 & The Umbrella Academy & Superhero action                  & English & 40–60 min & 2 seasons, 20 episodes & 2019\\\\\n\t5 & Black Summer         & Apocalyptic fiction drama         & English & 21–58 min & 2 seasons, 16 episodes & 2019\\\\\n\t6 & Raising Dion         & Superhero/Science fiction drama   & English & 37–51 min & 2 seasons, 17 episodes & 2019\\\\\n\t7 & Virgin River         & Romantic drama                    & English & 40–49 min & 3 seasons, 30 episodes & 2019\\\\\n\t8 & The Witcher          & Fantasy drama                     & English & 47–67 min & 2 seasons, 16 episodes & 2019\\\\\n\t9 & Locke \\& Key          & Fantasy drama/Supernatural horror & English & 40–56 min & 2 seasons, 20 episodes & 2020\\\\\n\t10 & Outer Banks          & Coming-of-age drama               & English & 42–61 min & 2 seasons, 20 episodes & 2020\\\\\n\t11 & Sweet Magnolias      & Romantic drama                    & English & 43–54 min & 2 seasons, 20 episodes & 2020\\\\\n\t12 & Blood \\& Water        & Teen drama                        & English & 43–53 min & 2 seasons, 13 episodes & 2020\\\\\n\t13 & Warrior Nun          & Fantasy                           & English & 37–50 min & 1 season, 10 episodes  & 2020\\\\\n\t14 & Young Wallander      & Detective drama                   & English & 36–52 min & 2 seasons, 12 episodes & 2020\\\\\n\t15 & Ratched              & Psychological thriller            & English & 45–62 min & 1 season, 8 episodes   & 2020\\\\\n\t16 & Bridgerton           & Historical romance                & English & 57–72 min & 1 season, 8 episodes   & 2020\\\\\n\t17 & Fate: The Winx Saga  & Teen drama fantasy                & English & 47–53 min & 1 season, 6 episodes   & 2021\\\\\n\t18 & Firefly Lane         & Drama                             & English & 47–53 min & 1 season, 10 episodes  & 2021\\\\\n\t19 & Ginny \\& Georgia      & Coming-of-age drama               & English & 52–58 min & 1 season, 10 episodes  & 2021\\\\\n\t20 & Shadow and Bone      & Fantasy drama                     & English & 45–58 min & 1 season, 8 episodes   & 2021\\\\\n\\end{tabular}\n",
            "text/plain": [
              "   Title                Genre                             Language Runtime  \n",
              "1  Stranger Things      Science fiction/horror            English  42–78 min\n",
              "2  The Crown            Historical drama                  English  47–61 min\n",
              "3  Ozark                Crime drama                       English  50–80 min\n",
              "4  The Umbrella Academy Superhero action                  English  40–60 min\n",
              "5  Black Summer         Apocalyptic fiction drama         English  21–58 min\n",
              "6  Raising Dion         Superhero/Science fiction drama   English  37–51 min\n",
              "7  Virgin River         Romantic drama                    English  40–49 min\n",
              "8  The Witcher          Fantasy drama                     English  47–67 min\n",
              "9  Locke & Key          Fantasy drama/Supernatural horror English  40–56 min\n",
              "10 Outer Banks          Coming-of-age drama               English  42–61 min\n",
              "11 Sweet Magnolias      Romantic drama                    English  43–54 min\n",
              "12 Blood & Water        Teen drama                        English  43–53 min\n",
              "13 Warrior Nun          Fantasy                           English  37–50 min\n",
              "14 Young Wallander      Detective drama                   English  36–52 min\n",
              "15 Ratched              Psychological thriller            English  45–62 min\n",
              "16 Bridgerton           Historical romance                English  57–72 min\n",
              "17 Fate: The Winx Saga  Teen drama fantasy                English  47–53 min\n",
              "18 Firefly Lane         Drama                             English  47–53 min\n",
              "19 Ginny & Georgia      Coming-of-age drama               English  52–58 min\n",
              "20 Shadow and Bone      Fantasy drama                     English  45–58 min\n",
              "   Seasons                Year\n",
              "1  3 seasons, 25 episodes 2016\n",
              "2  4 seasons, 40 episodes 2016\n",
              "3  4 seasons, 37 episodes 2017\n",
              "4  2 seasons, 20 episodes 2019\n",
              "5  2 seasons, 16 episodes 2019\n",
              "6  2 seasons, 17 episodes 2019\n",
              "7  3 seasons, 30 episodes 2019\n",
              "8  2 seasons, 16 episodes 2019\n",
              "9  2 seasons, 20 episodes 2020\n",
              "10 2 seasons, 20 episodes 2020\n",
              "11 2 seasons, 20 episodes 2020\n",
              "12 2 seasons, 13 episodes 2020\n",
              "13 1 season, 10 episodes  2020\n",
              "14 2 seasons, 12 episodes 2020\n",
              "15 1 season, 8 episodes   2020\n",
              "16 1 season, 8 episodes   2020\n",
              "17 1 season, 6 episodes   2021\n",
              "18 1 season, 10 episodes  2021\n",
              "19 1 season, 10 episodes  2021\n",
              "20 1 season, 8 episodes   2021"
            ]
          },
          "metadata": {}
        }
      ],
      "source": [
        "head(netflix, 20)"
      ]
    },
    {
      "cell_type": "code",
      "execution_count": 13,
      "id": "3032eba5",
      "metadata": {
        "execution": {
          "iopub.execute_input": "2022-03-12T02:49:33.766677Z",
          "iopub.status.busy": "2022-03-12T02:49:33.765445Z",
          "iopub.status.idle": "2022-03-12T02:49:33.820434Z",
          "shell.execute_reply": "2022-03-12T02:49:33.817918Z"
        },
        "papermill": {
          "duration": 0.153268,
          "end_time": "2022-03-12T02:49:33.820588",
          "exception": false,
          "start_time": "2022-03-12T02:49:33.667320",
          "status": "completed"
        },
        "tags": [],
        "id": "3032eba5"
      },
      "outputs": [],
      "source": [
        "library(stringr)\n",
        "# Seasons\n",
        "netflix$Season <- word(string = netflix$Seasons, start = 1, end = 1)\n",
        "netflix$Season <- sapply(netflix$Season, factor)\n",
        "\n",
        "# Episodes\n",
        "netflix$Episodes <- word(string = netflix$Seasons, start = 3, end = 3)\n",
        "netflix$Episodes <- as.integer(netflix$Episodes)"
      ]
    },
    {
      "cell_type": "code",
      "execution_count": 14,
      "id": "533f7ba2",
      "metadata": {
        "execution": {
          "iopub.execute_input": "2022-03-12T02:49:34.000568Z",
          "iopub.status.busy": "2022-03-12T02:49:33.999607Z",
          "iopub.status.idle": "2022-03-12T02:49:34.013967Z",
          "shell.execute_reply": "2022-03-12T02:49:34.012236Z"
        },
        "papermill": {
          "duration": 0.109195,
          "end_time": "2022-03-12T02:49:34.014142",
          "exception": false,
          "start_time": "2022-03-12T02:49:33.904947",
          "status": "completed"
        },
        "tags": [],
        "id": "533f7ba2"
      },
      "outputs": [],
      "source": [
        "# Drop Seasons column\n",
        "netflix <- select(netflix, -Seasons)"
      ]
    },
    {
      "cell_type": "code",
      "execution_count": 15,
      "id": "81d1f727",
      "metadata": {
        "execution": {
          "iopub.execute_input": "2022-03-12T02:49:34.193816Z",
          "iopub.status.busy": "2022-03-12T02:49:34.193197Z",
          "iopub.status.idle": "2022-03-12T02:49:34.206714Z",
          "shell.execute_reply": "2022-03-12T02:49:34.205448Z"
        },
        "papermill": {
          "duration": 0.102823,
          "end_time": "2022-03-12T02:49:34.206889",
          "exception": false,
          "start_time": "2022-03-12T02:49:34.104066",
          "status": "completed"
        },
        "tags": [],
        "id": "81d1f727"
      },
      "outputs": [],
      "source": [
        "# Changing column name\n",
        "colnames(netflix)[6] <- 'Seasons'"
      ]
    },
    {
      "cell_type": "code",
      "execution_count": 16,
      "id": "656c8953",
      "metadata": {
        "execution": {
          "iopub.execute_input": "2022-03-12T02:49:34.383611Z",
          "iopub.status.busy": "2022-03-12T02:49:34.381499Z",
          "iopub.status.idle": "2022-03-12T02:49:34.412061Z",
          "shell.execute_reply": "2022-03-12T02:49:34.410221Z"
        },
        "papermill": {
          "duration": 0.120448,
          "end_time": "2022-03-12T02:49:34.412255",
          "exception": false,
          "start_time": "2022-03-12T02:49:34.291807",
          "status": "completed"
        },
        "tags": [],
        "colab": {
          "base_uri": "https://localhost:8080/",
          "height": 286
        },
        "id": "656c8953",
        "outputId": "f2cf1289-b73e-4f17-917b-1387d3414079"
      },
      "outputs": [
        {
          "output_type": "display_data",
          "data": {
            "text/html": [
              "<table class=\"dataframe\">\n",
              "<caption>A data.frame: 6 × 7</caption>\n",
              "<thead>\n",
              "\t<tr><th></th><th scope=col>Title</th><th scope=col>Genre</th><th scope=col>Language</th><th scope=col>Runtime</th><th scope=col>Year</th><th scope=col>Seasons</th><th scope=col>Episodes</th></tr>\n",
              "\t<tr><th></th><th scope=col>&lt;chr&gt;</th><th scope=col>&lt;chr&gt;</th><th scope=col>&lt;chr&gt;</th><th scope=col>&lt;chr&gt;</th><th scope=col>&lt;dbl&gt;</th><th scope=col>&lt;fct&gt;</th><th scope=col>&lt;int&gt;</th></tr>\n",
              "</thead>\n",
              "<tbody>\n",
              "\t<tr><th scope=row>1</th><td>Stranger Things     </td><td>Science fiction/horror         </td><td>English</td><td>42–78 min</td><td>2016</td><td>3</td><td>25</td></tr>\n",
              "\t<tr><th scope=row>2</th><td>The Crown           </td><td>Historical drama               </td><td>English</td><td>47–61 min</td><td>2016</td><td>4</td><td>40</td></tr>\n",
              "\t<tr><th scope=row>3</th><td>Ozark               </td><td>Crime drama                    </td><td>English</td><td>50–80 min</td><td>2017</td><td>4</td><td>37</td></tr>\n",
              "\t<tr><th scope=row>4</th><td>The Umbrella Academy</td><td>Superhero action               </td><td>English</td><td>40–60 min</td><td>2019</td><td>2</td><td>20</td></tr>\n",
              "\t<tr><th scope=row>5</th><td>Black Summer        </td><td>Apocalyptic fiction drama      </td><td>English</td><td>21–58 min</td><td>2019</td><td>2</td><td>16</td></tr>\n",
              "\t<tr><th scope=row>6</th><td>Raising Dion        </td><td>Superhero/Science fiction drama</td><td>English</td><td>37–51 min</td><td>2019</td><td>2</td><td>17</td></tr>\n",
              "</tbody>\n",
              "</table>\n"
            ],
            "text/markdown": "\nA data.frame: 6 × 7\n\n| <!--/--> | Title &lt;chr&gt; | Genre &lt;chr&gt; | Language &lt;chr&gt; | Runtime &lt;chr&gt; | Year &lt;dbl&gt; | Seasons &lt;fct&gt; | Episodes &lt;int&gt; |\n|---|---|---|---|---|---|---|---|\n| 1 | Stranger Things      | Science fiction/horror          | English | 42–78 min | 2016 | 3 | 25 |\n| 2 | The Crown            | Historical drama                | English | 47–61 min | 2016 | 4 | 40 |\n| 3 | Ozark                | Crime drama                     | English | 50–80 min | 2017 | 4 | 37 |\n| 4 | The Umbrella Academy | Superhero action                | English | 40–60 min | 2019 | 2 | 20 |\n| 5 | Black Summer         | Apocalyptic fiction drama       | English | 21–58 min | 2019 | 2 | 16 |\n| 6 | Raising Dion         | Superhero/Science fiction drama | English | 37–51 min | 2019 | 2 | 17 |\n\n",
            "text/latex": "A data.frame: 6 × 7\n\\begin{tabular}{r|lllllll}\n  & Title & Genre & Language & Runtime & Year & Seasons & Episodes\\\\\n  & <chr> & <chr> & <chr> & <chr> & <dbl> & <fct> & <int>\\\\\n\\hline\n\t1 & Stranger Things      & Science fiction/horror          & English & 42–78 min & 2016 & 3 & 25\\\\\n\t2 & The Crown            & Historical drama                & English & 47–61 min & 2016 & 4 & 40\\\\\n\t3 & Ozark                & Crime drama                     & English & 50–80 min & 2017 & 4 & 37\\\\\n\t4 & The Umbrella Academy & Superhero action                & English & 40–60 min & 2019 & 2 & 20\\\\\n\t5 & Black Summer         & Apocalyptic fiction drama       & English & 21–58 min & 2019 & 2 & 16\\\\\n\t6 & Raising Dion         & Superhero/Science fiction drama & English & 37–51 min & 2019 & 2 & 17\\\\\n\\end{tabular}\n",
            "text/plain": [
              "  Title                Genre                           Language Runtime   Year\n",
              "1 Stranger Things      Science fiction/horror          English  42–78 min 2016\n",
              "2 The Crown            Historical drama                English  47–61 min 2016\n",
              "3 Ozark                Crime drama                     English  50–80 min 2017\n",
              "4 The Umbrella Academy Superhero action                English  40–60 min 2019\n",
              "5 Black Summer         Apocalyptic fiction drama       English  21–58 min 2019\n",
              "6 Raising Dion         Superhero/Science fiction drama English  37–51 min 2019\n",
              "  Seasons Episodes\n",
              "1 3       25      \n",
              "2 4       40      \n",
              "3 4       37      \n",
              "4 2       20      \n",
              "5 2       16      \n",
              "6 2       17      "
            ]
          },
          "metadata": {}
        }
      ],
      "source": [
        "head(netflix)"
      ]
    },
    {
      "cell_type": "code",
      "execution_count": 17,
      "id": "4245125d",
      "metadata": {
        "execution": {
          "iopub.execute_input": "2022-03-12T02:49:34.590036Z",
          "iopub.status.busy": "2022-03-12T02:49:34.587746Z",
          "iopub.status.idle": "2022-03-12T02:49:34.656389Z",
          "shell.execute_reply": "2022-03-12T02:49:34.654603Z"
        },
        "papermill": {
          "duration": 0.158511,
          "end_time": "2022-03-12T02:49:34.656557",
          "exception": false,
          "start_time": "2022-03-12T02:49:34.498046",
          "status": "completed"
        },
        "tags": [],
        "colab": {
          "base_uri": "https://localhost:8080/",
          "height": 1000
        },
        "id": "4245125d",
        "outputId": "4276becb-2e48-4e62-90ed-2696c6948a88"
      },
      "outputs": [
        {
          "output_type": "display_data",
          "data": {
            "text/html": [
              "<table class=\"dataframe\">\n",
              "<caption>A data.frame: 39 × 7</caption>\n",
              "<thead>\n",
              "\t<tr><th></th><th scope=col>Title</th><th scope=col>Genre</th><th scope=col>Language</th><th scope=col>Runtime</th><th scope=col>Year</th><th scope=col>Seasons</th><th scope=col>Episodes</th></tr>\n",
              "\t<tr><th></th><th scope=col>&lt;chr&gt;</th><th scope=col>&lt;chr&gt;</th><th scope=col>&lt;chr&gt;</th><th scope=col>&lt;chr&gt;</th><th scope=col>&lt;dbl&gt;</th><th scope=col>&lt;fct&gt;</th><th scope=col>&lt;int&gt;</th></tr>\n",
              "</thead>\n",
              "<tbody>\n",
              "\t<tr><th scope=row>29</th><td>Awaiting release                                  </td><td>Awaiting release </td><td>English         </td><td>Awaiting release</td><td>  NA</td><td>Awaiting</td><td>NA</td></tr>\n",
              "\t<tr><th scope=row>30</th><td>The Last Bus[27]                                  </td><td>Science fiction  </td><td>English         </td><td>TBA             </td><td>2022</td><td>TBA     </td><td>NA</td></tr>\n",
              "\t<tr><th scope=row>31</th><td>Anatomy of a Scandal[29]                          </td><td>Anthology series </td><td>English         </td><td>TBA             </td><td>2022</td><td>6       </td><td>NA</td></tr>\n",
              "\t<tr><th scope=row>51</th><td>Awaiting release                                  </td><td>Awaiting release </td><td>English         </td><td>Awaiting release</td><td>  NA</td><td>Awaiting</td><td>NA</td></tr>\n",
              "\t<tr><th scope=row>52</th><td>Eternally Confused and Eager for Love             </td><td>Comedy-drama     </td><td>English         </td><td>TBA             </td><td>2022</td><td>TBA     </td><td>NA</td></tr>\n",
              "\t<tr><th scope=row>53</th><td>Super PupZ[41]                                    </td><td>Children's comedy</td><td>English         </td><td>TBA             </td><td>2022</td><td>TBA     </td><td>NA</td></tr>\n",
              "\t<tr><th scope=row>65</th><td>Awaiting release                                  </td><td>Awaiting release </td><td>Awaiting release</td><td>Awaiting release</td><td>  NA</td><td>Awaiting</td><td>NA</td></tr>\n",
              "\t<tr><th scope=row>81</th><td>Awaiting release                                  </td><td>Awaiting release </td><td>Awaiting release</td><td>Awaiting release</td><td>  NA</td><td>Awaiting</td><td>NA</td></tr>\n",
              "\t<tr><th scope=row>82</th><td>Kotaro Lives Alone[55]                            </td><td>Comedy           </td><td>Japanese        </td><td>TBA             </td><td>2022</td><td>TBA     </td><td>NA</td></tr>\n",
              "\t<tr><th scope=row>83</th><td>Thermae Romae Novae                               </td><td>Comedy           </td><td>Japanese        </td><td>TBA             </td><td>2022</td><td>TBA     </td><td>NA</td></tr>\n",
              "\t<tr><th scope=row>114</th><td>Awaiting release                                  </td><td>                 </td><td>English         </td><td>Awaiting release</td><td>  NA</td><td>Awaiting</td><td>NA</td></tr>\n",
              "\t<tr><th scope=row>120</th><td>Awaiting release                                  </td><td>Awaiting release </td><td>English         </td><td>Awaiting release</td><td>  NA</td><td>Awaiting</td><td>NA</td></tr>\n",
              "\t<tr><th scope=row>121</th><td><span style=white-space:pre-wrap>Love, Life &amp; Everything in Between                </span></td><td><span style=white-space:pre-wrap>Romantic comedy  </span></td><td><span style=white-space:pre-wrap>English         </span></td><td><span style=white-space:pre-wrap>TBA             </span></td><td>2022</td><td><span style=white-space:pre-wrap>TBA     </span></td><td>NA</td></tr>\n",
              "\t<tr><th scope=row>130</th><td>Awaiting release                                  </td><td>Awaiting release </td><td>English         </td><td>Awaiting release</td><td>  NA</td><td>Awaiting</td><td>NA</td></tr>\n",
              "\t<tr><th scope=row>131</th><td>Standing Up[76][77]                               </td><td>Comedy-drama     </td><td>English         </td><td>TBA             </td><td>2022</td><td>TBA     </td><td>NA</td></tr>\n",
              "\t<tr><th scope=row>175</th><td>Awaiting release                                  </td><td>Awaiting release </td><td>English         </td><td>Awaiting release</td><td>  NA</td><td>Awaiting</td><td>NA</td></tr>\n",
              "\t<tr><th scope=row>203</th><td>Awaiting release                                  </td><td>Awaiting release </td><td>English         </td><td>Awaiting release</td><td>  NA</td><td>Awaiting</td><td>NA</td></tr>\n",
              "\t<tr><th scope=row>204</th><td>Once Upon a Time... Happily Never After[107]      </td><td>Musical comedy   </td><td>English         </td><td>TBA             </td><td>2022</td><td>TBA     </td><td>NA</td></tr>\n",
              "\t<tr><th scope=row>205</th><td>Welcome to Eden[109]                              </td><td>Science-fiction  </td><td>English         </td><td>TBA             </td><td>2022</td><td>TBA     </td><td>NA</td></tr>\n",
              "\t<tr><th scope=row>206</th><td>Pálpito[111]                                      </td><td>Telenovela       </td><td>English         </td><td>TBA             </td><td>2022</td><td>TBA     </td><td>NA</td></tr>\n",
              "\t<tr><th scope=row>212</th><td>Awaiting release                                  </td><td>Awaiting release </td><td>English         </td><td>Awaiting release</td><td>  NA</td><td>Awaiting</td><td>NA</td></tr>\n",
              "\t<tr><th scope=row>213</th><td>Wild Abandon[116]                                 </td><td>Drama            </td><td>English         </td><td>TBA             </td><td>2022</td><td>TBA     </td><td>NA</td></tr>\n",
              "\t<tr><th scope=row>249</th><td>Awaiting release                                  </td><td>Awaiting release </td><td>Awaiting release</td><td>Awaiting release</td><td>  NA</td><td>Awaiting</td><td>NA</td></tr>\n",
              "\t<tr><th scope=row>250</th><td>Bad Vegan: Fame. Fraud. Fugitive.[126]            </td><td>Docuseries       </td><td>English         </td><td>TBA             </td><td>2022</td><td>4       </td><td>NA</td></tr>\n",
              "\t<tr><th scope=row>252</th><td>The Principles of Pleasure[129]                   </td><td>Docuseries       </td><td>English         </td><td>TBA             </td><td>2022</td><td>TBA     </td><td>NA</td></tr>\n",
              "\t<tr><th scope=row>253</th><td>800 Meters[131]                                   </td><td>Docuseries       </td><td>Spanish         </td><td>TBA             </td><td>2022</td><td>TBA     </td><td>NA</td></tr>\n",
              "\t<tr><th scope=row>254</th><td>Johnny Hallyday: Beyond Rock[133]                 </td><td>Docuseries       </td><td>French          </td><td>TBA             </td><td>2022</td><td>TBA     </td><td>NA</td></tr>\n",
              "\t<tr><th scope=row>315</th><td>Awaiting release                                  </td><td>Awaiting release </td><td>Awaiting release</td><td>Awaiting release</td><td>  NA</td><td>Awaiting</td><td>NA</td></tr>\n",
              "\t<tr><th scope=row>317</th><td>Alessandro Cattelan: One Simple Question[150][151]</td><td>Reality show     </td><td>Italian         </td><td>TBA             </td><td>2022</td><td>TBA     </td><td>NA</td></tr>\n",
              "\t<tr><th scope=row>318</th><td>Is It Cake?                                       </td><td>Game show        </td><td>English         </td><td>TBA             </td><td>2022</td><td>TBA     </td><td>NA</td></tr>\n",
              "\t<tr><th scope=row>319</th><td><span style=white-space:pre-wrap>Young, Famous &amp; African[153]                      </span></td><td><span style=white-space:pre-wrap>Reality show     </span></td><td><span style=white-space:pre-wrap>English         </span></td><td><span style=white-space:pre-wrap>TBA             </span></td><td>2022</td><td><span style=white-space:pre-wrap>TBA     </span></td><td>NA</td></tr>\n",
              "\t<tr><th scope=row>320</th><td>The Ultimatum: Marry or Move On[155]              </td><td>Reality show     </td><td>English         </td><td>TBA             </td><td>2022</td><td>TBA     </td><td>NA</td></tr>\n",
              "\t<tr><th scope=row>331</th><td>Awaiting release                                  </td><td>Awaiting release </td><td>Awaiting release</td><td>Awaiting release</td><td>  NA</td><td>Awaiting</td><td>NA</td></tr>\n",
              "\t<tr><th scope=row>332</th><td>Soil                                              </td><td>Comedy-drama     </td><td>Dutch           </td><td>TBA             </td><td>2022</td><td>TBA     </td><td>NA</td></tr>\n",
              "\t<tr><th scope=row>342</th><td>Awaiting release                                  </td><td>Awaiting release </td><td>Awaiting release</td><td>Awaiting release</td><td>  NA</td><td>Awaiting</td><td>NA</td></tr>\n",
              "\t<tr><th scope=row>344</th><td>                                                  </td><td>                 </td><td>English         </td><td>                </td><td>  NA</td><td>        </td><td>NA</td></tr>\n",
              "\t<tr><th scope=row>345</th><td>                                                  </td><td>                 </td><td>English         </td><td>                </td><td>  NA</td><td>        </td><td>NA</td></tr>\n",
              "\t<tr><th scope=row>361</th><td>Awaiting release                                  </td><td>Awaiting release </td><td>Awaiting release</td><td>Awaiting release</td><td>  NA</td><td>Awaiting</td><td>NA</td></tr>\n",
              "\t<tr><th scope=row>362</th><td>Pedal to Metal[168]                               </td><td>Action           </td><td>Spanish         </td><td>TBA             </td><td>2022</td><td>TBA     </td><td>NA</td></tr>\n",
              "</tbody>\n",
              "</table>\n"
            ],
            "text/markdown": "\nA data.frame: 39 × 7\n\n| <!--/--> | Title &lt;chr&gt; | Genre &lt;chr&gt; | Language &lt;chr&gt; | Runtime &lt;chr&gt; | Year &lt;dbl&gt; | Seasons &lt;fct&gt; | Episodes &lt;int&gt; |\n|---|---|---|---|---|---|---|---|\n| 29 | Awaiting release                                   | Awaiting release  | English          | Awaiting release |   NA | Awaiting | NA |\n| 30 | The Last Bus[27]                                   | Science fiction   | English          | TBA              | 2022 | TBA      | NA |\n| 31 | Anatomy of a Scandal[29]                           | Anthology series  | English          | TBA              | 2022 | 6        | NA |\n| 51 | Awaiting release                                   | Awaiting release  | English          | Awaiting release |   NA | Awaiting | NA |\n| 52 | Eternally Confused and Eager for Love              | Comedy-drama      | English          | TBA              | 2022 | TBA      | NA |\n| 53 | Super PupZ[41]                                     | Children's comedy | English          | TBA              | 2022 | TBA      | NA |\n| 65 | Awaiting release                                   | Awaiting release  | Awaiting release | Awaiting release |   NA | Awaiting | NA |\n| 81 | Awaiting release                                   | Awaiting release  | Awaiting release | Awaiting release |   NA | Awaiting | NA |\n| 82 | Kotaro Lives Alone[55]                             | Comedy            | Japanese         | TBA              | 2022 | TBA      | NA |\n| 83 | Thermae Romae Novae                                | Comedy            | Japanese         | TBA              | 2022 | TBA      | NA |\n| 114 | Awaiting release                                   | <!----> | English          | Awaiting release |   NA | Awaiting | NA |\n| 120 | Awaiting release                                   | Awaiting release  | English          | Awaiting release |   NA | Awaiting | NA |\n| 121 | Love, Life &amp; Everything in Between                 | Romantic comedy   | English          | TBA              | 2022 | TBA      | NA |\n| 130 | Awaiting release                                   | Awaiting release  | English          | Awaiting release |   NA | Awaiting | NA |\n| 131 | Standing Up[76][77]                                | Comedy-drama      | English          | TBA              | 2022 | TBA      | NA |\n| 175 | Awaiting release                                   | Awaiting release  | English          | Awaiting release |   NA | Awaiting | NA |\n| 203 | Awaiting release                                   | Awaiting release  | English          | Awaiting release |   NA | Awaiting | NA |\n| 204 | Once Upon a Time... Happily Never After[107]       | Musical comedy    | English          | TBA              | 2022 | TBA      | NA |\n| 205 | Welcome to Eden[109]                               | Science-fiction   | English          | TBA              | 2022 | TBA      | NA |\n| 206 | Pálpito[111]                                       | Telenovela        | English          | TBA              | 2022 | TBA      | NA |\n| 212 | Awaiting release                                   | Awaiting release  | English          | Awaiting release |   NA | Awaiting | NA |\n| 213 | Wild Abandon[116]                                  | Drama             | English          | TBA              | 2022 | TBA      | NA |\n| 249 | Awaiting release                                   | Awaiting release  | Awaiting release | Awaiting release |   NA | Awaiting | NA |\n| 250 | Bad Vegan: Fame. Fraud. Fugitive.[126]             | Docuseries        | English          | TBA              | 2022 | 4        | NA |\n| 252 | The Principles of Pleasure[129]                    | Docuseries        | English          | TBA              | 2022 | TBA      | NA |\n| 253 | 800 Meters[131]                                    | Docuseries        | Spanish          | TBA              | 2022 | TBA      | NA |\n| 254 | Johnny Hallyday: Beyond Rock[133]                  | Docuseries        | French           | TBA              | 2022 | TBA      | NA |\n| 315 | Awaiting release                                   | Awaiting release  | Awaiting release | Awaiting release |   NA | Awaiting | NA |\n| 317 | Alessandro Cattelan: One Simple Question[150][151] | Reality show      | Italian          | TBA              | 2022 | TBA      | NA |\n| 318 | Is It Cake?                                        | Game show         | English          | TBA              | 2022 | TBA      | NA |\n| 319 | Young, Famous &amp; African[153]                       | Reality show      | English          | TBA              | 2022 | TBA      | NA |\n| 320 | The Ultimatum: Marry or Move On[155]               | Reality show      | English          | TBA              | 2022 | TBA      | NA |\n| 331 | Awaiting release                                   | Awaiting release  | Awaiting release | Awaiting release |   NA | Awaiting | NA |\n| 332 | Soil                                               | Comedy-drama      | Dutch            | TBA              | 2022 | TBA      | NA |\n| 342 | Awaiting release                                   | Awaiting release  | Awaiting release | Awaiting release |   NA | Awaiting | NA |\n| 344 | <!----> | <!----> | English          | <!----> |   NA | <!----> | NA |\n| 345 | <!----> | <!----> | English          | <!----> |   NA | <!----> | NA |\n| 361 | Awaiting release                                   | Awaiting release  | Awaiting release | Awaiting release |   NA | Awaiting | NA |\n| 362 | Pedal to Metal[168]                                | Action            | Spanish          | TBA              | 2022 | TBA      | NA |\n\n",
            "text/latex": "A data.frame: 39 × 7\n\\begin{tabular}{r|lllllll}\n  & Title & Genre & Language & Runtime & Year & Seasons & Episodes\\\\\n  & <chr> & <chr> & <chr> & <chr> & <dbl> & <fct> & <int>\\\\\n\\hline\n\t29 & Awaiting release                                   & Awaiting release  & English          & Awaiting release &   NA & Awaiting & NA\\\\\n\t30 & The Last Bus{[}27{]}                                   & Science fiction   & English          & TBA              & 2022 & TBA      & NA\\\\\n\t31 & Anatomy of a Scandal{[}29{]}                           & Anthology series  & English          & TBA              & 2022 & 6        & NA\\\\\n\t51 & Awaiting release                                   & Awaiting release  & English          & Awaiting release &   NA & Awaiting & NA\\\\\n\t52 & Eternally Confused and Eager for Love              & Comedy-drama      & English          & TBA              & 2022 & TBA      & NA\\\\\n\t53 & Super PupZ{[}41{]}                                     & Children's comedy & English          & TBA              & 2022 & TBA      & NA\\\\\n\t65 & Awaiting release                                   & Awaiting release  & Awaiting release & Awaiting release &   NA & Awaiting & NA\\\\\n\t81 & Awaiting release                                   & Awaiting release  & Awaiting release & Awaiting release &   NA & Awaiting & NA\\\\\n\t82 & Kotaro Lives Alone{[}55{]}                             & Comedy            & Japanese         & TBA              & 2022 & TBA      & NA\\\\\n\t83 & Thermae Romae Novae                                & Comedy            & Japanese         & TBA              & 2022 & TBA      & NA\\\\\n\t114 & Awaiting release                                   &                   & English          & Awaiting release &   NA & Awaiting & NA\\\\\n\t120 & Awaiting release                                   & Awaiting release  & English          & Awaiting release &   NA & Awaiting & NA\\\\\n\t121 & Love, Life \\& Everything in Between                 & Romantic comedy   & English          & TBA              & 2022 & TBA      & NA\\\\\n\t130 & Awaiting release                                   & Awaiting release  & English          & Awaiting release &   NA & Awaiting & NA\\\\\n\t131 & Standing Up{[}76{]}{[}77{]}                                & Comedy-drama      & English          & TBA              & 2022 & TBA      & NA\\\\\n\t175 & Awaiting release                                   & Awaiting release  & English          & Awaiting release &   NA & Awaiting & NA\\\\\n\t203 & Awaiting release                                   & Awaiting release  & English          & Awaiting release &   NA & Awaiting & NA\\\\\n\t204 & Once Upon a Time... Happily Never After{[}107{]}       & Musical comedy    & English          & TBA              & 2022 & TBA      & NA\\\\\n\t205 & Welcome to Eden{[}109{]}                               & Science-fiction   & English          & TBA              & 2022 & TBA      & NA\\\\\n\t206 & Pálpito{[}111{]}                                       & Telenovela        & English          & TBA              & 2022 & TBA      & NA\\\\\n\t212 & Awaiting release                                   & Awaiting release  & English          & Awaiting release &   NA & Awaiting & NA\\\\\n\t213 & Wild Abandon{[}116{]}                                  & Drama             & English          & TBA              & 2022 & TBA      & NA\\\\\n\t249 & Awaiting release                                   & Awaiting release  & Awaiting release & Awaiting release &   NA & Awaiting & NA\\\\\n\t250 & Bad Vegan: Fame. Fraud. Fugitive.{[}126{]}             & Docuseries        & English          & TBA              & 2022 & 4        & NA\\\\\n\t252 & The Principles of Pleasure{[}129{]}                    & Docuseries        & English          & TBA              & 2022 & TBA      & NA\\\\\n\t253 & 800 Meters{[}131{]}                                    & Docuseries        & Spanish          & TBA              & 2022 & TBA      & NA\\\\\n\t254 & Johnny Hallyday: Beyond Rock{[}133{]}                  & Docuseries        & French           & TBA              & 2022 & TBA      & NA\\\\\n\t315 & Awaiting release                                   & Awaiting release  & Awaiting release & Awaiting release &   NA & Awaiting & NA\\\\\n\t317 & Alessandro Cattelan: One Simple Question{[}150{]}{[}151{]} & Reality show      & Italian          & TBA              & 2022 & TBA      & NA\\\\\n\t318 & Is It Cake?                                        & Game show         & English          & TBA              & 2022 & TBA      & NA\\\\\n\t319 & Young, Famous \\& African{[}153{]}                       & Reality show      & English          & TBA              & 2022 & TBA      & NA\\\\\n\t320 & The Ultimatum: Marry or Move On{[}155{]}               & Reality show      & English          & TBA              & 2022 & TBA      & NA\\\\\n\t331 & Awaiting release                                   & Awaiting release  & Awaiting release & Awaiting release &   NA & Awaiting & NA\\\\\n\t332 & Soil                                               & Comedy-drama      & Dutch            & TBA              & 2022 & TBA      & NA\\\\\n\t342 & Awaiting release                                   & Awaiting release  & Awaiting release & Awaiting release &   NA & Awaiting & NA\\\\\n\t344 &                                                    &                   & English          &                  &   NA &          & NA\\\\\n\t345 &                                                    &                   & English          &                  &   NA &          & NA\\\\\n\t361 & Awaiting release                                   & Awaiting release  & Awaiting release & Awaiting release &   NA & Awaiting & NA\\\\\n\t362 & Pedal to Metal{[}168{]}                                & Action            & Spanish          & TBA              & 2022 & TBA      & NA\\\\\n\\end{tabular}\n",
            "text/plain": [
              "    Title                                              Genre            \n",
              "29  Awaiting release                                   Awaiting release \n",
              "30  The Last Bus[27]                                   Science fiction  \n",
              "31  Anatomy of a Scandal[29]                           Anthology series \n",
              "51  Awaiting release                                   Awaiting release \n",
              "52  Eternally Confused and Eager for Love              Comedy-drama     \n",
              "53  Super PupZ[41]                                     Children's comedy\n",
              "65  Awaiting release                                   Awaiting release \n",
              "81  Awaiting release                                   Awaiting release \n",
              "82  Kotaro Lives Alone[55]                             Comedy           \n",
              "83  Thermae Romae Novae                                Comedy           \n",
              "114 Awaiting release                                                    \n",
              "120 Awaiting release                                   Awaiting release \n",
              "121 Love, Life & Everything in Between                 Romantic comedy  \n",
              "130 Awaiting release                                   Awaiting release \n",
              "131 Standing Up[76][77]                                Comedy-drama     \n",
              "175 Awaiting release                                   Awaiting release \n",
              "203 Awaiting release                                   Awaiting release \n",
              "204 Once Upon a Time... Happily Never After[107]       Musical comedy   \n",
              "205 Welcome to Eden[109]                               Science-fiction  \n",
              "206 Pálpito[111]                                       Telenovela       \n",
              "212 Awaiting release                                   Awaiting release \n",
              "213 Wild Abandon[116]                                  Drama            \n",
              "249 Awaiting release                                   Awaiting release \n",
              "250 Bad Vegan: Fame. Fraud. Fugitive.[126]             Docuseries       \n",
              "252 The Principles of Pleasure[129]                    Docuseries       \n",
              "253 800 Meters[131]                                    Docuseries       \n",
              "254 Johnny Hallyday: Beyond Rock[133]                  Docuseries       \n",
              "315 Awaiting release                                   Awaiting release \n",
              "317 Alessandro Cattelan: One Simple Question[150][151] Reality show     \n",
              "318 Is It Cake?                                        Game show        \n",
              "319 Young, Famous & African[153]                       Reality show     \n",
              "320 The Ultimatum: Marry or Move On[155]               Reality show     \n",
              "331 Awaiting release                                   Awaiting release \n",
              "332 Soil                                               Comedy-drama     \n",
              "342 Awaiting release                                   Awaiting release \n",
              "344                                                                     \n",
              "345                                                                     \n",
              "361 Awaiting release                                   Awaiting release \n",
              "362 Pedal to Metal[168]                                Action           \n",
              "    Language         Runtime          Year Seasons  Episodes\n",
              "29  English          Awaiting release   NA Awaiting NA      \n",
              "30  English          TBA              2022 TBA      NA      \n",
              "31  English          TBA              2022 6        NA      \n",
              "51  English          Awaiting release   NA Awaiting NA      \n",
              "52  English          TBA              2022 TBA      NA      \n",
              "53  English          TBA              2022 TBA      NA      \n",
              "65  Awaiting release Awaiting release   NA Awaiting NA      \n",
              "81  Awaiting release Awaiting release   NA Awaiting NA      \n",
              "82  Japanese         TBA              2022 TBA      NA      \n",
              "83  Japanese         TBA              2022 TBA      NA      \n",
              "114 English          Awaiting release   NA Awaiting NA      \n",
              "120 English          Awaiting release   NA Awaiting NA      \n",
              "121 English          TBA              2022 TBA      NA      \n",
              "130 English          Awaiting release   NA Awaiting NA      \n",
              "131 English          TBA              2022 TBA      NA      \n",
              "175 English          Awaiting release   NA Awaiting NA      \n",
              "203 English          Awaiting release   NA Awaiting NA      \n",
              "204 English          TBA              2022 TBA      NA      \n",
              "205 English          TBA              2022 TBA      NA      \n",
              "206 English          TBA              2022 TBA      NA      \n",
              "212 English          Awaiting release   NA Awaiting NA      \n",
              "213 English          TBA              2022 TBA      NA      \n",
              "249 Awaiting release Awaiting release   NA Awaiting NA      \n",
              "250 English          TBA              2022 4        NA      \n",
              "252 English          TBA              2022 TBA      NA      \n",
              "253 Spanish          TBA              2022 TBA      NA      \n",
              "254 French           TBA              2022 TBA      NA      \n",
              "315 Awaiting release Awaiting release   NA Awaiting NA      \n",
              "317 Italian          TBA              2022 TBA      NA      \n",
              "318 English          TBA              2022 TBA      NA      \n",
              "319 English          TBA              2022 TBA      NA      \n",
              "320 English          TBA              2022 TBA      NA      \n",
              "331 Awaiting release Awaiting release   NA Awaiting NA      \n",
              "332 Dutch            TBA              2022 TBA      NA      \n",
              "342 Awaiting release Awaiting release   NA Awaiting NA      \n",
              "344 English                             NA          NA      \n",
              "345 English                             NA          NA      \n",
              "361 Awaiting release Awaiting release   NA Awaiting NA      \n",
              "362 Spanish          TBA              2022 TBA      NA      "
            ]
          },
          "metadata": {}
        }
      ],
      "source": [
        "subset(netflix, is.na(netflix$Episodes))"
      ]
    },
    {
      "cell_type": "markdown",
      "id": "4795357b",
      "metadata": {
        "papermill": {
          "duration": 0.091069,
          "end_time": "2022-03-12T02:49:34.843067",
          "exception": false,
          "start_time": "2022-03-12T02:49:34.751998",
          "status": "completed"
        },
        "tags": [],
        "id": "4795357b"
      },
      "source": [
        "After observations in the dataframe, it is seen that it contains some unreleased as well as some __Awaiting Release__ rows which contains NA values. As it is Awaiting Release and contains NA values in `Episodes` and `Season` columns, we will drop those columns"
      ]
    },
    {
      "cell_type": "code",
      "execution_count": 18,
      "id": "c164c8ce",
      "metadata": {
        "execution": {
          "iopub.execute_input": "2022-03-12T02:49:35.035772Z",
          "iopub.status.busy": "2022-03-12T02:49:35.033689Z",
          "iopub.status.idle": "2022-03-12T02:49:35.049677Z",
          "shell.execute_reply": "2022-03-12T02:49:35.048054Z"
        },
        "papermill": {
          "duration": 0.111396,
          "end_time": "2022-03-12T02:49:35.049830",
          "exception": false,
          "start_time": "2022-03-12T02:49:34.938434",
          "status": "completed"
        },
        "tags": [],
        "id": "c164c8ce"
      },
      "outputs": [],
      "source": [
        "# Deleting the NA Values \n",
        "netflix <- na.omit(netflix)"
      ]
    },
    {
      "cell_type": "code",
      "execution_count": 19,
      "id": "6163cbf7",
      "metadata": {
        "execution": {
          "iopub.execute_input": "2022-03-12T02:49:35.239108Z",
          "iopub.status.busy": "2022-03-12T02:49:35.237267Z",
          "iopub.status.idle": "2022-03-12T02:49:35.256281Z",
          "shell.execute_reply": "2022-03-12T02:49:35.254532Z"
        },
        "papermill": {
          "duration": 0.114555,
          "end_time": "2022-03-12T02:49:35.256447",
          "exception": false,
          "start_time": "2022-03-12T02:49:35.141892",
          "status": "completed"
        },
        "tags": [],
        "colab": {
          "base_uri": "https://localhost:8080/",
          "height": 34
        },
        "id": "6163cbf7",
        "outputId": "19b92b82-8585-46ff-bffa-d8406d26844e"
      },
      "outputs": [
        {
          "output_type": "display_data",
          "data": {
            "text/html": [
              "0"
            ],
            "text/markdown": "0",
            "text/latex": "0",
            "text/plain": [
              "[1] 0"
            ]
          },
          "metadata": {}
        }
      ],
      "source": [
        "sum(is.na(netflix))"
      ]
    },
    {
      "cell_type": "markdown",
      "id": "96b570fa",
      "metadata": {
        "papermill": {
          "duration": 0.09408,
          "end_time": "2022-03-12T02:49:35.444864",
          "exception": false,
          "start_time": "2022-03-12T02:49:35.350784",
          "status": "completed"
        },
        "tags": [],
        "id": "96b570fa"
      },
      "source": [
        "Removed all the NA values from the datset"
      ]
    },
    {
      "cell_type": "code",
      "execution_count": 20,
      "id": "da54f415",
      "metadata": {
        "execution": {
          "iopub.execute_input": "2022-03-12T02:49:35.640556Z",
          "iopub.status.busy": "2022-03-12T02:49:35.639334Z",
          "iopub.status.idle": "2022-03-12T02:49:35.666282Z",
          "shell.execute_reply": "2022-03-12T02:49:35.664721Z"
        },
        "papermill": {
          "duration": 0.126802,
          "end_time": "2022-03-12T02:49:35.666436",
          "exception": false,
          "start_time": "2022-03-12T02:49:35.539634",
          "status": "completed"
        },
        "tags": [],
        "colab": {
          "base_uri": "https://localhost:8080/",
          "height": 318
        },
        "id": "da54f415",
        "outputId": "6a753865-de7a-43f6-9d30-812a3c25ca9f"
      },
      "outputs": [
        {
          "output_type": "display_data",
          "data": {
            "text/html": [
              "<table class=\"dataframe\">\n",
              "<caption>A data.frame: 7 × 7</caption>\n",
              "<thead>\n",
              "\t<tr><th></th><th scope=col>Title</th><th scope=col>Genre</th><th scope=col>Language</th><th scope=col>Runtime</th><th scope=col>Year</th><th scope=col>Seasons</th><th scope=col>Episodes</th></tr>\n",
              "\t<tr><th></th><th scope=col>&lt;chr&gt;</th><th scope=col>&lt;chr&gt;</th><th scope=col>&lt;chr&gt;</th><th scope=col>&lt;chr&gt;</th><th scope=col>&lt;dbl&gt;</th><th scope=col>&lt;fct&gt;</th><th scope=col>&lt;int&gt;</th></tr>\n",
              "</thead>\n",
              "<tbody>\n",
              "\t<tr><th scope=row>66</th><td>Human Resources[47]                   </td><td>Comedy       </td><td>English </td><td>TBA</td><td>2022</td><td>1</td><td>10</td></tr>\n",
              "\t<tr><th scope=row>115</th><td>Team Zenko Go                         </td><td>             </td><td>English </td><td>TBA</td><td>2022</td><td>1</td><td>12</td></tr>\n",
              "\t<tr><th scope=row>116</th><td>Transformers: Botbots[68]             </td><td>             </td><td>English </td><td>TBA</td><td>2022</td><td>1</td><td>10</td></tr>\n",
              "\t<tr><th scope=row>117</th><td>Trivia Quest[71]                      </td><td>             </td><td>English </td><td>TBA</td><td>2022</td><td>1</td><td>30</td></tr>\n",
              "\t<tr><th scope=row>176</th><td>Cracow Monsters[92]                   </td><td>Fantasy drama</td><td>English </td><td>TBA</td><td>2022</td><td>1</td><td> 8</td></tr>\n",
              "\t<tr><th scope=row>316</th><td>Life After Death with Tyler Henry[149]</td><td>Reality      </td><td>English </td><td>TBA</td><td>2022</td><td>1</td><td> 9</td></tr>\n",
              "\t<tr><th scope=row>343</th><td><span style=white-space:pre-wrap>Tiger &amp; Bunny (season 2)              </span></td><td><span style=white-space:pre-wrap>Anime        </span></td><td>Japanese</td><td>TBA</td><td>2022</td><td>1</td><td>25</td></tr>\n",
              "</tbody>\n",
              "</table>\n"
            ],
            "text/markdown": "\nA data.frame: 7 × 7\n\n| <!--/--> | Title &lt;chr&gt; | Genre &lt;chr&gt; | Language &lt;chr&gt; | Runtime &lt;chr&gt; | Year &lt;dbl&gt; | Seasons &lt;fct&gt; | Episodes &lt;int&gt; |\n|---|---|---|---|---|---|---|---|\n| 66 | Human Resources[47]                    | Comedy        | English  | TBA | 2022 | 1 | 10 |\n| 115 | Team Zenko Go                          | <!----> | English  | TBA | 2022 | 1 | 12 |\n| 116 | Transformers: Botbots[68]              | <!----> | English  | TBA | 2022 | 1 | 10 |\n| 117 | Trivia Quest[71]                       | <!----> | English  | TBA | 2022 | 1 | 30 |\n| 176 | Cracow Monsters[92]                    | Fantasy drama | English  | TBA | 2022 | 1 |  8 |\n| 316 | Life After Death with Tyler Henry[149] | Reality       | English  | TBA | 2022 | 1 |  9 |\n| 343 | Tiger &amp; Bunny (season 2)               | Anime         | Japanese | TBA | 2022 | 1 | 25 |\n\n",
            "text/latex": "A data.frame: 7 × 7\n\\begin{tabular}{r|lllllll}\n  & Title & Genre & Language & Runtime & Year & Seasons & Episodes\\\\\n  & <chr> & <chr> & <chr> & <chr> & <dbl> & <fct> & <int>\\\\\n\\hline\n\t66 & Human Resources{[}47{]}                    & Comedy        & English  & TBA & 2022 & 1 & 10\\\\\n\t115 & Team Zenko Go                          &               & English  & TBA & 2022 & 1 & 12\\\\\n\t116 & Transformers: Botbots{[}68{]}              &               & English  & TBA & 2022 & 1 & 10\\\\\n\t117 & Trivia Quest{[}71{]}                       &               & English  & TBA & 2022 & 1 & 30\\\\\n\t176 & Cracow Monsters{[}92{]}                    & Fantasy drama & English  & TBA & 2022 & 1 &  8\\\\\n\t316 & Life After Death with Tyler Henry{[}149{]} & Reality       & English  & TBA & 2022 & 1 &  9\\\\\n\t343 & Tiger \\& Bunny (season 2)               & Anime         & Japanese & TBA & 2022 & 1 & 25\\\\\n\\end{tabular}\n",
            "text/plain": [
              "    Title                                  Genre         Language Runtime Year\n",
              "66  Human Resources[47]                    Comedy        English  TBA     2022\n",
              "115 Team Zenko Go                                        English  TBA     2022\n",
              "116 Transformers: Botbots[68]                            English  TBA     2022\n",
              "117 Trivia Quest[71]                                     English  TBA     2022\n",
              "176 Cracow Monsters[92]                    Fantasy drama English  TBA     2022\n",
              "316 Life After Death with Tyler Henry[149] Reality       English  TBA     2022\n",
              "343 Tiger & Bunny (season 2)               Anime         Japanese TBA     2022\n",
              "    Seasons Episodes\n",
              "66  1       10      \n",
              "115 1       12      \n",
              "116 1       10      \n",
              "117 1       30      \n",
              "176 1        8      \n",
              "316 1        9      \n",
              "343 1       25      "
            ]
          },
          "metadata": {}
        }
      ],
      "source": [
        "netflix[netflix$Runtime == 'TBA', ]"
      ]
    },
    {
      "cell_type": "markdown",
      "id": "979edff1",
      "metadata": {
        "papermill": {
          "duration": 0.097578,
          "end_time": "2022-03-12T02:49:35.860100",
          "exception": false,
          "start_time": "2022-03-12T02:49:35.762522",
          "status": "completed"
        },
        "tags": [],
        "id": "979edff1"
      },
      "source": [
        "We have to drop the rows having no data on the Runtime of that particular show as it is yet to be released."
      ]
    },
    {
      "cell_type": "code",
      "execution_count": 21,
      "id": "f6c378e7",
      "metadata": {
        "execution": {
          "iopub.execute_input": "2022-03-12T02:49:36.053022Z",
          "iopub.status.busy": "2022-03-12T02:49:36.051463Z",
          "iopub.status.idle": "2022-03-12T02:49:36.066035Z",
          "shell.execute_reply": "2022-03-12T02:49:36.064614Z"
        },
        "papermill": {
          "duration": 0.112933,
          "end_time": "2022-03-12T02:49:36.066218",
          "exception": false,
          "start_time": "2022-03-12T02:49:35.953285",
          "status": "completed"
        },
        "tags": [],
        "id": "f6c378e7"
      },
      "outputs": [],
      "source": [
        "netflix <- netflix[netflix$Runtime != 'TBA', ]"
      ]
    },
    {
      "cell_type": "code",
      "execution_count": 22,
      "id": "76eaf990",
      "metadata": {
        "execution": {
          "iopub.execute_input": "2022-03-12T02:49:36.263506Z",
          "iopub.status.busy": "2022-03-12T02:49:36.261698Z",
          "iopub.status.idle": "2022-03-12T02:49:36.297494Z",
          "shell.execute_reply": "2022-03-12T02:49:36.296067Z"
        },
        "papermill": {
          "duration": 0.134945,
          "end_time": "2022-03-12T02:49:36.297651",
          "exception": false,
          "start_time": "2022-03-12T02:49:36.162706",
          "status": "completed"
        },
        "tags": [],
        "id": "76eaf990"
      },
      "outputs": [],
      "source": [
        "# Lastly, for Runtime column take the avg of the values\n",
        "netflix$mRuntime <- word(netflix$Runtime, start= 1, end= 1)\n",
        "\n",
        "netflix$minRuntime <- word(netflix$mRuntime, start= 1, end= 1, sep= fixed(\"–\"))\n",
        "netflix$minRuntime <- as.integer(netflix$minRuntime) # Convert to integer\n",
        "\n",
        "if(!('–' %in% netflix$mRuntime)) {\n",
        "    netflix$maxRuntime <- word(netflix$mRuntime, start= 1, end= 1, sep= fixed(\"–\"))\n",
        "} else {\n",
        "    netflix$maxRuntime <- word(netflix$mRuntime, start= 2, end= 2, sep= fixed(\"–\"))\n",
        "}\n",
        "netflix$maxRuntime <- as.integer(netflix$maxRuntime) # Convert to integer"
      ]
    },
    {
      "cell_type": "code",
      "execution_count": 23,
      "id": "68cf0ced",
      "metadata": {
        "execution": {
          "iopub.execute_input": "2022-03-12T02:49:36.516009Z",
          "iopub.status.busy": "2022-03-12T02:49:36.514397Z",
          "iopub.status.idle": "2022-03-12T02:49:36.540521Z",
          "shell.execute_reply": "2022-03-12T02:49:36.539340Z"
        },
        "papermill": {
          "duration": 0.138941,
          "end_time": "2022-03-12T02:49:36.540667",
          "exception": false,
          "start_time": "2022-03-12T02:49:36.401726",
          "status": "completed"
        },
        "tags": [],
        "id": "68cf0ced"
      },
      "outputs": [],
      "source": [
        "# Creating a new column AvgRuntime\n",
        "netflix <- mutate(netflix, AvgRuntime= (minRuntime + maxRuntime)/2)\n",
        "netflix$AvgRuntime <- as.integer(netflix$AvgRuntime) # Converting to integer"
      ]
    },
    {
      "cell_type": "code",
      "execution_count": 24,
      "id": "7427e04a",
      "metadata": {
        "execution": {
          "iopub.execute_input": "2022-03-12T02:49:36.737520Z",
          "iopub.status.busy": "2022-03-12T02:49:36.735906Z",
          "iopub.status.idle": "2022-03-12T02:49:36.753398Z",
          "shell.execute_reply": "2022-03-12T02:49:36.752164Z"
        },
        "papermill": {
          "duration": 0.120132,
          "end_time": "2022-03-12T02:49:36.753542",
          "exception": false,
          "start_time": "2022-03-12T02:49:36.633410",
          "status": "completed"
        },
        "tags": [],
        "id": "7427e04a"
      },
      "outputs": [],
      "source": [
        "# Dropping the unnecessary columns\n",
        "netflix <- select(netflix, -Runtime, -mRuntime, -minRuntime, -maxRuntime)"
      ]
    },
    {
      "cell_type": "code",
      "execution_count": 25,
      "id": "4a2ba973",
      "metadata": {
        "execution": {
          "iopub.execute_input": "2022-03-12T02:49:36.960678Z",
          "iopub.status.busy": "2022-03-12T02:49:36.959360Z",
          "iopub.status.idle": "2022-03-12T02:49:36.997050Z",
          "shell.execute_reply": "2022-03-12T02:49:36.995589Z"
        },
        "papermill": {
          "duration": 0.151361,
          "end_time": "2022-03-12T02:49:36.997271",
          "exception": false,
          "start_time": "2022-03-12T02:49:36.845910",
          "status": "completed"
        },
        "tags": [],
        "id": "4a2ba973"
      },
      "outputs": [],
      "source": [
        "netflix$Genre <- factor(netflix$Genre)\n",
        "netflix$Language <- sapply(netflix$Language, factor)\n",
        "netflix$Year <- factor(netflix$Year)"
      ]
    },
    {
      "cell_type": "code",
      "execution_count": 26,
      "id": "f4a3cfe4",
      "metadata": {
        "execution": {
          "iopub.execute_input": "2022-03-12T02:49:37.191775Z",
          "iopub.status.busy": "2022-03-12T02:49:37.190081Z",
          "iopub.status.idle": "2022-03-12T02:49:37.207354Z",
          "shell.execute_reply": "2022-03-12T02:49:37.205674Z"
        },
        "papermill": {
          "duration": 0.116138,
          "end_time": "2022-03-12T02:49:37.207508",
          "exception": false,
          "start_time": "2022-03-12T02:49:37.091370",
          "status": "completed"
        },
        "tags": [],
        "colab": {
          "base_uri": "https://localhost:8080/",
          "height": 142
        },
        "id": "f4a3cfe4",
        "outputId": "28b2ab00-cbdc-46be-f37e-89689f31b44e"
      },
      "outputs": [
        {
          "output_type": "display_data",
          "data": {
            "text/plain": [
              "\n",
              "   English    Italian   Japanese  Icelandic      Tamil       Thai      Dutch \n",
              "       258          2         13          1          1          2          2 \n",
              "Portuguese    Kannada    Spanish     Korean      Hindi     Arabic     German \n",
              "         6          1         17          6          2          2          1 \n",
              "    French     Polish \n",
              "         1          2 "
            ]
          },
          "metadata": {}
        }
      ],
      "source": [
        "table(netflix$Language)"
      ]
    },
    {
      "cell_type": "code",
      "execution_count": 27,
      "id": "b8a18cf5",
      "metadata": {
        "execution": {
          "iopub.execute_input": "2022-03-12T02:49:37.413395Z",
          "iopub.status.busy": "2022-03-12T02:49:37.411718Z",
          "iopub.status.idle": "2022-03-12T02:49:37.433568Z",
          "shell.execute_reply": "2022-03-12T02:49:37.431939Z"
        },
        "papermill": {
          "duration": 0.133048,
          "end_time": "2022-03-12T02:49:37.433733",
          "exception": false,
          "start_time": "2022-03-12T02:49:37.300685",
          "status": "completed"
        },
        "tags": [],
        "colab": {
          "base_uri": "https://localhost:8080/",
          "height": 98
        },
        "id": "b8a18cf5",
        "outputId": "977324dc-85f0-478f-d628-6ec4bcc38a40"
      },
      "outputs": [
        {
          "output_type": "display_data",
          "data": {
            "text/html": [
              "<table class=\"dataframe\">\n",
              "<caption>A data.frame: 0 × 7</caption>\n",
              "<thead>\n",
              "\t<tr><th scope=col>Title</th><th scope=col>Genre</th><th scope=col>Language</th><th scope=col>Year</th><th scope=col>Seasons</th><th scope=col>Episodes</th><th scope=col>AvgRuntime</th></tr>\n",
              "\t<tr><th scope=col>&lt;chr&gt;</th><th scope=col>&lt;fct&gt;</th><th scope=col>&lt;fct&gt;</th><th scope=col>&lt;fct&gt;</th><th scope=col>&lt;fct&gt;</th><th scope=col>&lt;int&gt;</th><th scope=col>&lt;int&gt;</th></tr>\n",
              "</thead>\n",
              "<tbody>\n",
              "</tbody>\n",
              "</table>\n"
            ],
            "text/markdown": "\nA data.frame: 0 × 7\n\n| Title &lt;chr&gt; | Genre &lt;fct&gt; | Language &lt;fct&gt; | Year &lt;fct&gt; | Seasons &lt;fct&gt; | Episodes &lt;int&gt; | AvgRuntime &lt;int&gt; |\n|---|---|---|---|---|---|---|\n\n",
            "text/latex": "A data.frame: 0 × 7\n\\begin{tabular}{lllllll}\n Title & Genre & Language & Year & Seasons & Episodes & AvgRuntime\\\\\n <chr> & <fct> & <fct> & <fct> & <fct> & <int> & <int>\\\\\n\\hline\n\\end{tabular}\n",
            "text/plain": [
              "     Title Genre Language Year Seasons Episodes AvgRuntime"
            ]
          },
          "metadata": {}
        }
      ],
      "source": [
        "subset(netflix, netflix$Genre == 'Awaiting Release')"
      ]
    },
    {
      "cell_type": "code",
      "execution_count": 28,
      "id": "44232add",
      "metadata": {
        "execution": {
          "iopub.execute_input": "2022-03-12T02:49:37.630967Z",
          "iopub.status.busy": "2022-03-12T02:49:37.629404Z",
          "iopub.status.idle": "2022-03-12T02:49:37.657368Z",
          "shell.execute_reply": "2022-03-12T02:49:37.655810Z"
        },
        "papermill": {
          "duration": 0.127379,
          "end_time": "2022-03-12T02:49:37.657516",
          "exception": false,
          "start_time": "2022-03-12T02:49:37.530137",
          "status": "completed"
        },
        "tags": [],
        "colab": {
          "base_uri": "https://localhost:8080/",
          "height": 412
        },
        "id": "44232add",
        "outputId": "79feb315-95ff-460b-b306-661a85192de1"
      },
      "outputs": [
        {
          "output_type": "display_data",
          "data": {
            "text/html": [
              "<table class=\"dataframe\">\n",
              "<caption>A data.frame: 10 × 7</caption>\n",
              "<thead>\n",
              "\t<tr><th></th><th scope=col>Title</th><th scope=col>Genre</th><th scope=col>Language</th><th scope=col>Year</th><th scope=col>Seasons</th><th scope=col>Episodes</th><th scope=col>AvgRuntime</th></tr>\n",
              "\t<tr><th></th><th scope=col>&lt;chr&gt;</th><th scope=col>&lt;fct&gt;</th><th scope=col>&lt;fct&gt;</th><th scope=col>&lt;fct&gt;</th><th scope=col>&lt;fct&gt;</th><th scope=col>&lt;int&gt;</th><th scope=col>&lt;int&gt;</th></tr>\n",
              "</thead>\n",
              "<tbody>\n",
              "\t<tr><th scope=row>1</th><td>Stranger Things     </td><td>Science fiction/horror           </td><td>English</td><td>2016</td><td>3</td><td>25</td><td>42</td></tr>\n",
              "\t<tr><th scope=row>2</th><td>The Crown           </td><td>Historical drama                 </td><td>English</td><td>2016</td><td>4</td><td>40</td><td>47</td></tr>\n",
              "\t<tr><th scope=row>3</th><td>Ozark               </td><td>Crime drama                      </td><td>English</td><td>2017</td><td>4</td><td>37</td><td>50</td></tr>\n",
              "\t<tr><th scope=row>4</th><td>The Umbrella Academy</td><td>Superhero action                 </td><td>English</td><td>2019</td><td>2</td><td>20</td><td>40</td></tr>\n",
              "\t<tr><th scope=row>5</th><td>Black Summer        </td><td>Apocalyptic fiction drama        </td><td>English</td><td>2019</td><td>2</td><td>16</td><td>21</td></tr>\n",
              "\t<tr><th scope=row>6</th><td>Raising Dion        </td><td>Superhero/Science fiction drama  </td><td>English</td><td>2019</td><td>2</td><td>17</td><td>37</td></tr>\n",
              "\t<tr><th scope=row>7</th><td>Virgin River        </td><td>Romantic drama                   </td><td>English</td><td>2019</td><td>3</td><td>30</td><td>40</td></tr>\n",
              "\t<tr><th scope=row>8</th><td>The Witcher         </td><td>Fantasy drama                    </td><td>English</td><td>2019</td><td>2</td><td>16</td><td>47</td></tr>\n",
              "\t<tr><th scope=row>9</th><td><span style=white-space:pre-wrap>Locke &amp; Key         </span></td><td>Fantasy drama/Supernatural horror</td><td>English</td><td>2020</td><td>2</td><td>20</td><td>40</td></tr>\n",
              "\t<tr><th scope=row>10</th><td>Outer Banks         </td><td>Coming-of-age drama              </td><td>English</td><td>2020</td><td>2</td><td>20</td><td>42</td></tr>\n",
              "</tbody>\n",
              "</table>\n"
            ],
            "text/markdown": "\nA data.frame: 10 × 7\n\n| <!--/--> | Title &lt;chr&gt; | Genre &lt;fct&gt; | Language &lt;fct&gt; | Year &lt;fct&gt; | Seasons &lt;fct&gt; | Episodes &lt;int&gt; | AvgRuntime &lt;int&gt; |\n|---|---|---|---|---|---|---|---|\n| 1 | Stranger Things      | Science fiction/horror            | English | 2016 | 3 | 25 | 42 |\n| 2 | The Crown            | Historical drama                  | English | 2016 | 4 | 40 | 47 |\n| 3 | Ozark                | Crime drama                       | English | 2017 | 4 | 37 | 50 |\n| 4 | The Umbrella Academy | Superhero action                  | English | 2019 | 2 | 20 | 40 |\n| 5 | Black Summer         | Apocalyptic fiction drama         | English | 2019 | 2 | 16 | 21 |\n| 6 | Raising Dion         | Superhero/Science fiction drama   | English | 2019 | 2 | 17 | 37 |\n| 7 | Virgin River         | Romantic drama                    | English | 2019 | 3 | 30 | 40 |\n| 8 | The Witcher          | Fantasy drama                     | English | 2019 | 2 | 16 | 47 |\n| 9 | Locke &amp; Key          | Fantasy drama/Supernatural horror | English | 2020 | 2 | 20 | 40 |\n| 10 | Outer Banks          | Coming-of-age drama               | English | 2020 | 2 | 20 | 42 |\n\n",
            "text/latex": "A data.frame: 10 × 7\n\\begin{tabular}{r|lllllll}\n  & Title & Genre & Language & Year & Seasons & Episodes & AvgRuntime\\\\\n  & <chr> & <fct> & <fct> & <fct> & <fct> & <int> & <int>\\\\\n\\hline\n\t1 & Stranger Things      & Science fiction/horror            & English & 2016 & 3 & 25 & 42\\\\\n\t2 & The Crown            & Historical drama                  & English & 2016 & 4 & 40 & 47\\\\\n\t3 & Ozark                & Crime drama                       & English & 2017 & 4 & 37 & 50\\\\\n\t4 & The Umbrella Academy & Superhero action                  & English & 2019 & 2 & 20 & 40\\\\\n\t5 & Black Summer         & Apocalyptic fiction drama         & English & 2019 & 2 & 16 & 21\\\\\n\t6 & Raising Dion         & Superhero/Science fiction drama   & English & 2019 & 2 & 17 & 37\\\\\n\t7 & Virgin River         & Romantic drama                    & English & 2019 & 3 & 30 & 40\\\\\n\t8 & The Witcher          & Fantasy drama                     & English & 2019 & 2 & 16 & 47\\\\\n\t9 & Locke \\& Key          & Fantasy drama/Supernatural horror & English & 2020 & 2 & 20 & 40\\\\\n\t10 & Outer Banks          & Coming-of-age drama               & English & 2020 & 2 & 20 & 42\\\\\n\\end{tabular}\n",
            "text/plain": [
              "   Title                Genre                             Language Year Seasons\n",
              "1  Stranger Things      Science fiction/horror            English  2016 3      \n",
              "2  The Crown            Historical drama                  English  2016 4      \n",
              "3  Ozark                Crime drama                       English  2017 4      \n",
              "4  The Umbrella Academy Superhero action                  English  2019 2      \n",
              "5  Black Summer         Apocalyptic fiction drama         English  2019 2      \n",
              "6  Raising Dion         Superhero/Science fiction drama   English  2019 2      \n",
              "7  Virgin River         Romantic drama                    English  2019 3      \n",
              "8  The Witcher          Fantasy drama                     English  2019 2      \n",
              "9  Locke & Key          Fantasy drama/Supernatural horror English  2020 2      \n",
              "10 Outer Banks          Coming-of-age drama               English  2020 2      \n",
              "   Episodes AvgRuntime\n",
              "1  25       42        \n",
              "2  40       47        \n",
              "3  37       50        \n",
              "4  20       40        \n",
              "5  16       21        \n",
              "6  17       37        \n",
              "7  30       40        \n",
              "8  16       47        \n",
              "9  20       40        \n",
              "10 20       42        "
            ]
          },
          "metadata": {}
        }
      ],
      "source": [
        "# View the head of the final dataset\n",
        "head(netflix, 10)"
      ]
    },
    {
      "cell_type": "code",
      "execution_count": 29,
      "id": "05617235",
      "metadata": {
        "execution": {
          "iopub.execute_input": "2022-03-12T02:49:37.860192Z",
          "iopub.status.busy": "2022-03-12T02:49:37.858594Z",
          "iopub.status.idle": "2022-03-12T02:49:37.883059Z",
          "shell.execute_reply": "2022-03-12T02:49:37.881789Z"
        },
        "papermill": {
          "duration": 0.126772,
          "end_time": "2022-03-12T02:49:37.883286",
          "exception": false,
          "start_time": "2022-03-12T02:49:37.756514",
          "status": "completed"
        },
        "tags": [],
        "colab": {
          "base_uri": "https://localhost:8080/"
        },
        "id": "05617235",
        "outputId": "e034e5c6-bd4d-47b0-f72d-8ac96b228067"
      },
      "outputs": [
        {
          "output_type": "stream",
          "name": "stdout",
          "text": [
            "'data.frame':\t317 obs. of  7 variables:\n",
            " $ Title     : chr  \"Stranger Things\" \"The Crown\" \"Ozark\" \"The Umbrella Academy\" ...\n",
            " $ Genre     : Factor w/ 106 levels \"\",\"Action\",\"Action drama\",..: 81 49 24 88 10 90 75 41 42 19 ...\n",
            " $ Language  : Factor w/ 16 levels \"English\",\"Italian\",..: 1 1 1 1 1 1 1 1 1 1 ...\n",
            " $ Year      : Factor w/ 8 levels \"2015\",\"2016\",..: 2 2 3 5 5 5 5 5 6 6 ...\n",
            " $ Seasons   : Factor w/ 10 levels \"3\",\"4\",\"2\",\"1\",..: 1 2 2 3 3 3 1 3 3 3 ...\n",
            " $ Episodes  : int  25 40 37 20 16 17 30 16 20 20 ...\n",
            " $ AvgRuntime: int  42 47 50 40 21 37 40 47 40 42 ...\n",
            " - attr(*, \"na.action\")= 'omit' Named int [1:39] 29 30 31 51 52 53 65 81 82 83 ...\n",
            "  ..- attr(*, \"names\")= chr [1:39] \"29\" \"30\" \"31\" \"51\" ...\n"
          ]
        }
      ],
      "source": [
        "str(netflix)"
      ]
    },
    {
      "cell_type": "markdown",
      "id": "9f58ff5d",
      "metadata": {
        "papermill": {
          "duration": 0.098562,
          "end_time": "2022-03-12T02:49:38.081228",
          "exception": false,
          "start_time": "2022-03-12T02:49:37.982666",
          "status": "completed"
        },
        "tags": [],
        "id": "9f58ff5d"
      },
      "source": [
        "<div id= 'eda'>\n",
        "    <h2>Exploratory Data Analysis</h2>\n",
        "</div>"
      ]
    },
    {
      "cell_type": "code",
      "execution_count": 30,
      "id": "8571a37c",
      "metadata": {
        "execution": {
          "iopub.execute_input": "2022-03-12T02:49:38.285645Z",
          "iopub.status.busy": "2022-03-12T02:49:38.284155Z",
          "iopub.status.idle": "2022-03-12T02:49:38.297844Z",
          "shell.execute_reply": "2022-03-12T02:49:38.296202Z"
        },
        "papermill": {
          "duration": 0.117847,
          "end_time": "2022-03-12T02:49:38.298013",
          "exception": false,
          "start_time": "2022-03-12T02:49:38.180166",
          "status": "completed"
        },
        "tags": [],
        "id": "8571a37c"
      },
      "outputs": [],
      "source": [
        "library(ggplot2)"
      ]
    },
    {
      "cell_type": "code",
      "execution_count": 31,
      "id": "61502b78",
      "metadata": {
        "execution": {
          "iopub.execute_input": "2022-03-12T02:49:38.532612Z",
          "iopub.status.busy": "2022-03-12T02:49:38.531003Z",
          "iopub.status.idle": "2022-03-12T02:49:39.031812Z",
          "shell.execute_reply": "2022-03-12T02:49:39.030685Z"
        },
        "papermill": {
          "duration": 0.619427,
          "end_time": "2022-03-12T02:49:39.031977",
          "exception": false,
          "start_time": "2022-03-12T02:49:38.412550",
          "status": "completed"
        },
        "tags": [],
        "colab": {
          "base_uri": "https://localhost:8080/",
          "height": 473
        },
        "id": "61502b78",
        "outputId": "c6d61519-021a-4e4c-8cb2-a56e75396cb8"
      },
      "outputs": [
        {
          "output_type": "stream",
          "name": "stderr",
          "text": [
            "`stat_bin()` using `bins = 30`. Pick better value with `binwidth`.\n",
            "\n"
          ]
        },
        {
          "output_type": "display_data",
          "data": {
            "text/plain": [
              "plot without title"
            ],
            "image/png": "[encoded data removed]"
          },
          "metadata": {
            "image/png": {
              "width": 420,
              "height": 420
            }
          }
        }
      ],
      "source": [
        "ggplot(netflix, aes(AvgRuntime)) + geom_histogram(color= 'orange', fill= 'yellow', alpha= .4) + theme_linedraw()"
      ]
    },
    {
      "cell_type": "markdown",
      "id": "665ced86",
      "metadata": {
        "papermill": {
          "duration": 0.1005,
          "end_time": "2022-03-12T02:49:39.233811",
          "exception": false,
          "start_time": "2022-03-12T02:49:39.133311",
          "status": "completed"
        },
        "tags": [],
        "id": "665ced86"
      },
      "source": [
        "The highest `AvgRuntime` is about 25 minutes for about 40 shows and about 42-45 minutes for 26 shows. <br>\n",
        "It's interesting to see shows having runtime of less than 55 minutes!"
      ]
    },
    {
      "cell_type": "code",
      "execution_count": 32,
      "id": "3b360fa1",
      "metadata": {
        "execution": {
          "iopub.execute_input": "2022-03-12T02:49:39.440003Z",
          "iopub.status.busy": "2022-03-12T02:49:39.438511Z",
          "iopub.status.idle": "2022-03-12T02:49:39.718295Z",
          "shell.execute_reply": "2022-03-12T02:49:39.716858Z"
        },
        "papermill": {
          "duration": 0.384613,
          "end_time": "2022-03-12T02:49:39.718450",
          "exception": false,
          "start_time": "2022-03-12T02:49:39.333837",
          "status": "completed"
        },
        "tags": [],
        "colab": {
          "base_uri": "https://localhost:8080/",
          "height": 473
        },
        "id": "3b360fa1",
        "outputId": "fb57a28a-9dba-42bc-c63a-d464dc567ef9"
      },
      "outputs": [
        {
          "output_type": "stream",
          "name": "stderr",
          "text": [
            "`stat_bin()` using `bins = 30`. Pick better value with `binwidth`.\n",
            "\n"
          ]
        },
        {
          "output_type": "display_data",
          "data": {
            "text/plain": [
              "plot without title"
            ],
            "image/png": "[encoded data removed]"
          },
          "metadata": {
            "image/png": {
              "width": 420,
              "height": 420
            }
          }
        }
      ],
      "source": [
        "ggplot(netflix, aes(Episodes)) + geom_histogram(color= 'purple', fill= 'violet', alpha= .6) + theme_minimal()"
      ]
    },
    {
      "cell_type": "markdown",
      "id": "6658df1f",
      "metadata": {
        "papermill": {
          "duration": 0.102616,
          "end_time": "2022-03-12T02:49:39.923563",
          "exception": false,
          "start_time": "2022-03-12T02:49:39.820947",
          "status": "completed"
        },
        "tags": [],
        "id": "6658df1f"
      },
      "source": [
        "About 25% of all the shows have an average of 10 episodes. There is a peculiar show which has around 80 episodes too."
      ]
    },
    {
      "cell_type": "code",
      "execution_count": 33,
      "id": "ac3c6017",
      "metadata": {
        "execution": {
          "iopub.execute_input": "2022-03-12T02:49:40.141574Z",
          "iopub.status.busy": "2022-03-12T02:49:40.139500Z",
          "iopub.status.idle": "2022-03-12T02:49:40.379436Z",
          "shell.execute_reply": "2022-03-12T02:49:40.377931Z"
        },
        "papermill": {
          "duration": 0.351004,
          "end_time": "2022-03-12T02:49:40.379587",
          "exception": false,
          "start_time": "2022-03-12T02:49:40.028583",
          "status": "completed"
        },
        "tags": [],
        "colab": {
          "base_uri": "https://localhost:8080/",
          "height": 437
        },
        "id": "ac3c6017",
        "outputId": "b68d7095-6889-4d69-b0c2-96381f71e15e"
      },
      "outputs": [
        {
          "output_type": "display_data",
          "data": {
            "text/plain": [
              "plot without title"
            ],
            "image/png": "[encoded data removed]"
          },
          "metadata": {
            "image/png": {
              "width": 420,
              "height": 420
            }
          }
        }
      ],
      "source": [
        "ggplot(netflix, aes(Language)) + geom_bar() + scale_x_discrete(guide = guide_axis(n.dodge= 2)) + theme_bw()"
      ]
    },
    {
      "cell_type": "code",
      "execution_count": 34,
      "id": "c9735870",
      "metadata": {
        "execution": {
          "iopub.execute_input": "2022-03-12T02:49:40.594849Z",
          "iopub.status.busy": "2022-03-12T02:49:40.593298Z",
          "iopub.status.idle": "2022-03-12T02:49:41.052197Z",
          "shell.execute_reply": "2022-03-12T02:49:41.051475Z"
        },
        "papermill": {
          "duration": 0.567209,
          "end_time": "2022-03-12T02:49:41.052344",
          "exception": false,
          "start_time": "2022-03-12T02:49:40.485135",
          "status": "completed"
        },
        "tags": [],
        "colab": {
          "base_uri": "https://localhost:8080/",
          "height": 437
        },
        "id": "c9735870",
        "outputId": "b3ffb88a-e147-4206-aec6-42da1cfdc2c7"
      },
      "outputs": [
        {
          "output_type": "display_data",
          "data": {
            "text/plain": [
              "plot without title"
            ],
            "image/png": "[encoded data removed]"
          },
          "metadata": {
            "image/png": {
              "width": 420,
              "height": 420
            }
          }
        }
      ],
      "source": [
        "ggplot(netflix, aes(Genre)) + geom_bar(aes(fill= Seasons)) + scale_x_discrete(guide = guide_axis(angle = 45)) + theme_light()"
      ]
    }
  ],
  "metadata": {
    "kernelspec": {
      "display_name": "R",
      "language": "R",
      "name": "ir"
    },
    "language_info": {
      "codemirror_mode": "r",
      "file_extension": ".r",
      "mimetype": "text/x-r-source",
      "name": "R",
      "pygments_lexer": "r",
      "version": "4.0.5"
    },
    "papermill": {
      "default_parameters": {},
      "duration": 15.64494,
      "end_time": "2022-03-12T02:49:41.486525",
      "environment_variables": {},
      "exception": null,
      "input_path": "__notebook__.ipynb",
      "output_path": "__notebook__.ipynb",
      "parameters": {},
      "start_time": "2022-03-12T02:49:25.841585",
      "version": "2.3.3"
    },
    "colab": {
      "name": "netflix-eda-with-r-2022-03-09.ipynb",
      "provenance": []
    }
  },
  "nbformat": 4,
  "nbformat_minor": 5
}